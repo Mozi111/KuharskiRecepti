{
 "cells": [
  {
   "cell_type": "markdown",
   "metadata": {},
   "source": [
    "# Kuharski recepti\n",
    "\n",
    "Za projektno nalogo sem s strani [kulinarika.net](https://www.kulinarika.net) zbral prvih 1200 receptov po popularnosti.\n",
    "\n",
    "Podatki so ločeni v štiri csv datoteke:\n",
    "* recepti.csv\n",
    "* kategorije.csv\n",
    "* avtorji.csv\n",
    "* povezave.csv\n",
    "\n",
    "## Zbrani podatki\n",
    "Recepti vsebujejo:\n",
    "* id recepta\n",
    "* naslov\n",
    "* datum objave\n",
    "* zahtevnost (1 = najlažje, 5 = najtežje)\n",
    "* čas priprave (v minutah)\n",
    "* količino hrane\n",
    "* število mnenj\n",
    "* število fotografij\n",
    "* datum zadnje fotografije\n",
    "* ali je jed bolj zdrava\n",
    "\n",
    "Kategorije vsebujejo:\n",
    "* id recepta\n",
    "* kategorija\n",
    "* podkategorija\n",
    "\n",
    "Avtorji vsebujejo:\n",
    "* id avtorja\n",
    "* ime avtorja\n",
    "* spol avtorja\n",
    "\n",
    "Povezave vsebujejo:\n",
    "* id recepta\n",
    "* id avtorja\n",
    "\n",
    "## Predvidena analiza\n",
    "Analiziral bom kategorije (najpopularnejše, najbolj zastopane, najlažje, ...) ter recepte glede na spol avtorjev.\n",
    "- - - - - \n",
    "Vstavimo podatke in iz datumov dodamo še stolpce z **letom objave**, **mesecem objave** in **letom zadnje fotografije**, ker jih bomo kasneje uporabili. Izračunamo tudi **starost recepta** (v letih, izračunana kot razlika med današnjim letom in letom objave)."
   ]
  },
  {
   "cell_type": "code",
   "execution_count": 36,
   "metadata": {
    "collapsed": false
   },
   "outputs": [],
   "source": [
    "import pandas as pd\n",
    "import numpy as np\n",
    "pd.options.display.max_rows = 12\n",
    "%matplotlib inline\n",
    "\n",
    "recepti = pd.read_csv('ReceptiCSV/recepti.csv', index_col='id', dayfirst=True, parse_dates=[2,9])\n",
    "recepti.columns = ['Naslov', 'Datum objave', 'Leto objave', 'Zahtevnost', 'Čas priprave', 'Količina', 'Št. mnenj', 'Št. fotografij',\n",
    "                  'Datum zadnje fotografije', 'Leto zadnje fotografije', 'Zdrava jed']\n",
    "kategorije = pd.read_csv('ReceptiCSV/kategorije.csv')\n",
    "avtorji = pd.read_csv('ReceptiCSV/avtorji.csv', index_col='id')\n",
    "povezave = pd.read_csv('ReceptiCSV/povezave.csv')\n",
    "\n",
    "recepti['Leto objave'] = pd.DatetimeIndex(recepti['Datum objave']).year\n",
    "recepti['Mesec objave'] = pd.DatetimeIndex(recepti['Datum objave']).month\n",
    "recepti['Leto zadnje fotografije'] = pd.DatetimeIndex(recepti['Datum zadnje fotografije']).year\n",
    "recepti['Starost'] = pd.to_datetime('today').year - pd.DatetimeIndex(recepti['Datum objave']).year"
   ]
  },
  {
   "cell_type": "markdown",
   "metadata": {},
   "source": [
    "Videli bomo, da pri nekaterih receptih manjkajo nekateri podatki. [Nekaterim celim številom so zato dodane decimalne vejice.](http://pandas.pydata.org/pandas-docs/stable/gotchas.html#support-for-integer-na)\n",
    "- - - \n",
    "Oglejmo si torej našo **glavno tabelo**."
   ]
  },
  {
   "cell_type": "code",
   "execution_count": 37,
   "metadata": {
    "collapsed": false,
    "scrolled": true
   },
   "outputs": [
    {
     "data": {
      "text/html": [
       "<div>\n",
       "<table border=\"1\" class=\"dataframe\">\n",
       "  <thead>\n",
       "    <tr style=\"text-align: right;\">\n",
       "      <th></th>\n",
       "      <th>Naslov</th>\n",
       "      <th>Datum objave</th>\n",
       "      <th>Leto objave</th>\n",
       "      <th>Zahtevnost</th>\n",
       "      <th>Čas priprave</th>\n",
       "      <th>Količina</th>\n",
       "      <th>Št. mnenj</th>\n",
       "      <th>Št. fotografij</th>\n",
       "      <th>Datum zadnje fotografije</th>\n",
       "      <th>Leto zadnje fotografije</th>\n",
       "      <th>Zdrava jed</th>\n",
       "      <th>Mesec objave</th>\n",
       "      <th>Starost</th>\n",
       "    </tr>\n",
       "    <tr>\n",
       "      <th>id</th>\n",
       "      <th></th>\n",
       "      <th></th>\n",
       "      <th></th>\n",
       "      <th></th>\n",
       "      <th></th>\n",
       "      <th></th>\n",
       "      <th></th>\n",
       "      <th></th>\n",
       "      <th></th>\n",
       "      <th></th>\n",
       "      <th></th>\n",
       "      <th></th>\n",
       "      <th></th>\n",
       "    </tr>\n",
       "  </thead>\n",
       "  <tbody>\n",
       "    <tr>\n",
       "      <th>3603</th>\n",
       "      <td>Torta Nutella</td>\n",
       "      <td>2004-04-20</td>\n",
       "      <td>2004</td>\n",
       "      <td>3</td>\n",
       "      <td>75</td>\n",
       "      <td>NaN</td>\n",
       "      <td>1079.0</td>\n",
       "      <td>477.0</td>\n",
       "      <td>2016-09-06</td>\n",
       "      <td>2016.0</td>\n",
       "      <td>NaN</td>\n",
       "      <td>4</td>\n",
       "      <td>12</td>\n",
       "    </tr>\n",
       "    <tr>\n",
       "      <th>12619</th>\n",
       "      <td>Čokoladno - mascarponejeve kocke</td>\n",
       "      <td>2009-05-16</td>\n",
       "      <td>2009</td>\n",
       "      <td>2</td>\n",
       "      <td>45</td>\n",
       "      <td>NaN</td>\n",
       "      <td>513.0</td>\n",
       "      <td>91.0</td>\n",
       "      <td>2016-05-18</td>\n",
       "      <td>2016.0</td>\n",
       "      <td>NaN</td>\n",
       "      <td>5</td>\n",
       "      <td>7</td>\n",
       "    </tr>\n",
       "    <tr>\n",
       "      <th>8100</th>\n",
       "      <td>Skutino pecivo za požrešne sosede</td>\n",
       "      <td>2006-10-12</td>\n",
       "      <td>2006</td>\n",
       "      <td>1</td>\n",
       "      <td>NaN</td>\n",
       "      <td>NaN</td>\n",
       "      <td>299.0</td>\n",
       "      <td>59.0</td>\n",
       "      <td>2016-04-17</td>\n",
       "      <td>2016.0</td>\n",
       "      <td>NaN</td>\n",
       "      <td>10</td>\n",
       "      <td>10</td>\n",
       "    </tr>\n",
       "    <tr>\n",
       "      <th>5814</th>\n",
       "      <td>Biskvit za torto, ki nikoli ne pade dol</td>\n",
       "      <td>2005-12-04</td>\n",
       "      <td>2005</td>\n",
       "      <td>2</td>\n",
       "      <td>45</td>\n",
       "      <td>NaN</td>\n",
       "      <td>339.0</td>\n",
       "      <td>246.0</td>\n",
       "      <td>2016-01-29</td>\n",
       "      <td>2016.0</td>\n",
       "      <td>NaN</td>\n",
       "      <td>12</td>\n",
       "      <td>11</td>\n",
       "    </tr>\n",
       "    <tr>\n",
       "      <th>4364</th>\n",
       "      <td>Super dobra jabolčna pita</td>\n",
       "      <td>2004-11-29</td>\n",
       "      <td>2004</td>\n",
       "      <td>1</td>\n",
       "      <td>90</td>\n",
       "      <td>NaN</td>\n",
       "      <td>171.0</td>\n",
       "      <td>62.0</td>\n",
       "      <td>2016-05-28</td>\n",
       "      <td>2016.0</td>\n",
       "      <td>NaN</td>\n",
       "      <td>11</td>\n",
       "      <td>12</td>\n",
       "    </tr>\n",
       "    <tr>\n",
       "      <th>9431</th>\n",
       "      <td>Moji mehki medenjaki</td>\n",
       "      <td>2006-12-22</td>\n",
       "      <td>2006</td>\n",
       "      <td>2</td>\n",
       "      <td>NaN</td>\n",
       "      <td>NaN</td>\n",
       "      <td>329.0</td>\n",
       "      <td>141.0</td>\n",
       "      <td>2015-12-28</td>\n",
       "      <td>2015.0</td>\n",
       "      <td>NaN</td>\n",
       "      <td>12</td>\n",
       "      <td>10</td>\n",
       "    </tr>\n",
       "    <tr>\n",
       "      <th>...</th>\n",
       "      <td>...</td>\n",
       "      <td>...</td>\n",
       "      <td>...</td>\n",
       "      <td>...</td>\n",
       "      <td>...</td>\n",
       "      <td>...</td>\n",
       "      <td>...</td>\n",
       "      <td>...</td>\n",
       "      <td>...</td>\n",
       "      <td>...</td>\n",
       "      <td>...</td>\n",
       "      <td>...</td>\n",
       "      <td>...</td>\n",
       "    </tr>\n",
       "    <tr>\n",
       "      <th>12056</th>\n",
       "      <td>Lanina torta</td>\n",
       "      <td>2008-12-22</td>\n",
       "      <td>2008</td>\n",
       "      <td>2</td>\n",
       "      <td>180</td>\n",
       "      <td>NaN</td>\n",
       "      <td>45.0</td>\n",
       "      <td>26.0</td>\n",
       "      <td>2016-09-09</td>\n",
       "      <td>2016.0</td>\n",
       "      <td>NaN</td>\n",
       "      <td>12</td>\n",
       "      <td>8</td>\n",
       "    </tr>\n",
       "    <tr>\n",
       "      <th>342</th>\n",
       "      <td>Kokosove rezine</td>\n",
       "      <td>1999-10-30</td>\n",
       "      <td>1999</td>\n",
       "      <td>1</td>\n",
       "      <td>NaN</td>\n",
       "      <td>NaN</td>\n",
       "      <td>5.0</td>\n",
       "      <td>2.0</td>\n",
       "      <td>2011-08-08</td>\n",
       "      <td>2011.0</td>\n",
       "      <td>NaN</td>\n",
       "      <td>10</td>\n",
       "      <td>17</td>\n",
       "    </tr>\n",
       "    <tr>\n",
       "      <th>14632</th>\n",
       "      <td>Novoletna torta</td>\n",
       "      <td>2011-01-08</td>\n",
       "      <td>2011</td>\n",
       "      <td>2</td>\n",
       "      <td>30</td>\n",
       "      <td>12</td>\n",
       "      <td>14.0</td>\n",
       "      <td>6.0</td>\n",
       "      <td>2013-10-13</td>\n",
       "      <td>2013.0</td>\n",
       "      <td>NaN</td>\n",
       "      <td>1</td>\n",
       "      <td>5</td>\n",
       "    </tr>\n",
       "    <tr>\n",
       "      <th>6336</th>\n",
       "      <td>Mini princeske</td>\n",
       "      <td>2006-03-30</td>\n",
       "      <td>2006</td>\n",
       "      <td>2</td>\n",
       "      <td>NaN</td>\n",
       "      <td>pibližno 60 kosov</td>\n",
       "      <td>27.0</td>\n",
       "      <td>5.0</td>\n",
       "      <td>2009-12-28</td>\n",
       "      <td>2009.0</td>\n",
       "      <td>NaN</td>\n",
       "      <td>3</td>\n",
       "      <td>10</td>\n",
       "    </tr>\n",
       "    <tr>\n",
       "      <th>1423</th>\n",
       "      <td>Čičerika iz lonca</td>\n",
       "      <td>2001-11-06</td>\n",
       "      <td>2001</td>\n",
       "      <td>1</td>\n",
       "      <td>NaN</td>\n",
       "      <td>2</td>\n",
       "      <td>19.0</td>\n",
       "      <td>1.0</td>\n",
       "      <td>2009-11-13</td>\n",
       "      <td>2009.0</td>\n",
       "      <td>NaN</td>\n",
       "      <td>11</td>\n",
       "      <td>15</td>\n",
       "    </tr>\n",
       "    <tr>\n",
       "      <th>18421</th>\n",
       "      <td>Pravi francoski čokoladni mousse</td>\n",
       "      <td>2013-04-25</td>\n",
       "      <td>2013</td>\n",
       "      <td>2</td>\n",
       "      <td>30</td>\n",
       "      <td>6</td>\n",
       "      <td>23.0</td>\n",
       "      <td>13.0</td>\n",
       "      <td>2014-11-14</td>\n",
       "      <td>2014.0</td>\n",
       "      <td>NaN</td>\n",
       "      <td>4</td>\n",
       "      <td>3</td>\n",
       "    </tr>\n",
       "  </tbody>\n",
       "</table>\n",
       "<p>1200 rows × 13 columns</p>\n",
       "</div>"
      ],
      "text/plain": [
       "                                        Naslov Datum objave  Leto objave  \\\n",
       "id                                                                         \n",
       "3603                             Torta Nutella   2004-04-20         2004   \n",
       "12619         Čokoladno - mascarponejeve kocke   2009-05-16         2009   \n",
       "8100         Skutino pecivo za požrešne sosede   2006-10-12         2006   \n",
       "5814   Biskvit za torto, ki nikoli ne pade dol   2005-12-04         2005   \n",
       "4364                 Super dobra jabolčna pita   2004-11-29         2004   \n",
       "9431                      Moji mehki medenjaki   2006-12-22         2006   \n",
       "...                                        ...          ...          ...   \n",
       "12056                             Lanina torta   2008-12-22         2008   \n",
       "342                            Kokosove rezine   1999-10-30         1999   \n",
       "14632                          Novoletna torta   2011-01-08         2011   \n",
       "6336                            Mini princeske   2006-03-30         2006   \n",
       "1423                         Čičerika iz lonca   2001-11-06         2001   \n",
       "18421         Pravi francoski čokoladni mousse   2013-04-25         2013   \n",
       "\n",
       "       Zahtevnost Čas priprave           Količina  Št. mnenj  Št. fotografij  \\\n",
       "id                                                                             \n",
       "3603            3           75                NaN     1079.0           477.0   \n",
       "12619           2           45                NaN      513.0            91.0   \n",
       "8100            1          NaN                NaN      299.0            59.0   \n",
       "5814            2           45                NaN      339.0           246.0   \n",
       "4364            1           90                NaN      171.0            62.0   \n",
       "9431            2          NaN                NaN      329.0           141.0   \n",
       "...           ...          ...                ...        ...             ...   \n",
       "12056           2          180                NaN       45.0            26.0   \n",
       "342             1          NaN                NaN        5.0             2.0   \n",
       "14632           2           30                 12       14.0             6.0   \n",
       "6336            2          NaN  pibližno 60 kosov       27.0             5.0   \n",
       "1423            1          NaN                  2       19.0             1.0   \n",
       "18421           2           30                  6       23.0            13.0   \n",
       "\n",
       "      Datum zadnje fotografije  Leto zadnje fotografije Zdrava jed  \\\n",
       "id                                                                   \n",
       "3603                2016-09-06                   2016.0        NaN   \n",
       "12619               2016-05-18                   2016.0        NaN   \n",
       "8100                2016-04-17                   2016.0        NaN   \n",
       "5814                2016-01-29                   2016.0        NaN   \n",
       "4364                2016-05-28                   2016.0        NaN   \n",
       "9431                2015-12-28                   2015.0        NaN   \n",
       "...                        ...                      ...        ...   \n",
       "12056               2016-09-09                   2016.0        NaN   \n",
       "342                 2011-08-08                   2011.0        NaN   \n",
       "14632               2013-10-13                   2013.0        NaN   \n",
       "6336                2009-12-28                   2009.0        NaN   \n",
       "1423                2009-11-13                   2009.0        NaN   \n",
       "18421               2014-11-14                   2014.0        NaN   \n",
       "\n",
       "       Mesec objave  Starost  \n",
       "id                            \n",
       "3603              4       12  \n",
       "12619             5        7  \n",
       "8100             10       10  \n",
       "5814             12       11  \n",
       "4364             11       12  \n",
       "9431             12       10  \n",
       "...             ...      ...  \n",
       "12056            12        8  \n",
       "342              10       17  \n",
       "14632             1        5  \n",
       "6336              3       10  \n",
       "1423             11       15  \n",
       "18421             4        3  \n",
       "\n",
       "[1200 rows x 13 columns]"
      ]
     },
     "execution_count": 37,
     "metadata": {},
     "output_type": "execute_result"
    }
   ],
   "source": [
    "recepti"
   ]
  },
  {
   "cell_type": "markdown",
   "metadata": {},
   "source": [
    "Za občutek o podatkih lahko pogledamo povprečja vseh zbranih receptov za **starost**, **zahtevnost**, **število mnenj** in **število fotografij**."
   ]
  },
  {
   "cell_type": "code",
   "execution_count": 38,
   "metadata": {
    "collapsed": false,
    "scrolled": true
   },
   "outputs": [
    {
     "data": {
      "text/plain": [
       "Starost            9.586667\n",
       "Zahtevnost         1.900833\n",
       "Št. mnenj         46.537114\n",
       "Št. fotografij    10.403361\n",
       "dtype: float64"
      ]
     },
     "execution_count": 38,
     "metadata": {},
     "output_type": "execute_result"
    }
   ],
   "source": [
    "recepti.mean()[['Starost', 'Zahtevnost', 'Št. mnenj', 'Št. fotografij']]"
   ]
  },
  {
   "cell_type": "markdown",
   "metadata": {},
   "source": [
    "Če pogledamo razvrščenost receptov po **kategorijah**, vidimo, da je daleč največ **sladic**. Kasneje bomo videli, da je kar 57% receptov **sladic**."
   ]
  },
  {
   "cell_type": "code",
   "execution_count": 39,
   "metadata": {
    "collapsed": false,
    "scrolled": false
   },
   "outputs": [
    {
     "data": {
      "text/plain": [
       "<matplotlib.axes._subplots.AxesSubplot at 0x62b47b8>"
      ]
     },
     "execution_count": 39,
     "metadata": {},
     "output_type": "execute_result"
    },
    {
     "data": {
      "image/png": "[encoded data removed]",
      "text/plain": [
       "<matplotlib.figure.Figure at 0x9c43320>"
      ]
     },
     "metadata": {},
     "output_type": "display_data"
    }
   ],
   "source": [
    "recepti_po_kategorijah = kategorije.groupby('kategorija')\n",
    "st_kategorij = recepti_po_kategorijah.size().count()\n",
    "graf_kategorij = recepti_po_kategorijah.size().sort_values(\n",
    "    ascending=False).head(st_kategorij)\n",
    "graf_kategorij.name = 'kategorije'\n",
    "graf_kategorij.sort_values(ascending=False).plot(kind='bar', title = 'Število receptov po kategorijah')"
   ]
  },
  {
   "cell_type": "code",
   "execution_count": 40,
   "metadata": {
    "collapsed": false
   },
   "outputs": [
    {
     "data": {
      "text/plain": [
       "<matplotlib.axes._subplots.AxesSubplot at 0x630c4a8>"
      ]
     },
     "execution_count": 40,
     "metadata": {},
     "output_type": "execute_result"
    },
    {
     "data": {
      "image/png": "[encoded data removed]",
      "text/plain": [
       "<matplotlib.figure.Figure at 0x6317e48>"
      ]
     },
     "metadata": {},
     "output_type": "display_data"
    }
   ],
   "source": [
    "recepti_po_podkategorijah = kategorije.groupby('podkategorija')\n",
    "st_podkategorij = recepti_po_podkategorijah.size().count()\n",
    "graf_podkategorij = recepti_po_podkategorijah.size().sort_values(\n",
    "    ascending=False).head(st_podkategorij)\n",
    "graf_podkategorij.name = 'podkategorije'\n",
    "graf_podkategorij.sort_values(ascending=False).plot(kind='bar', title = 'Število receptov po podkategorijah')"
   ]
  },
  {
   "cell_type": "markdown",
   "metadata": {},
   "source": [
    "**Povprečja za število mnenj, število fotografij in zahtevnost ter standardni odklon in koeficient variacije za št. mnenj po kategorijah - prikazanih prvih 6 po povprečnem št. mnenj**:"
   ]
  },
  {
   "cell_type": "code",
   "execution_count": 133,
   "metadata": {
    "collapsed": false
   },
   "outputs": [
    {
     "data": {
      "text/html": [
       "<div>\n",
       "<table border=\"1\" class=\"dataframe\">\n",
       "  <thead>\n",
       "    <tr style=\"text-align: right;\">\n",
       "      <th></th>\n",
       "      <th>Povprečno št. mnenj</th>\n",
       "      <th>Povprečno št. fotografij</th>\n",
       "      <th>Povprečna zahtevnost</th>\n",
       "      <th>St. odklon mnenj</th>\n",
       "      <th>Koeficient variacije št. mnenj</th>\n",
       "      <th>Število receptov</th>\n",
       "    </tr>\n",
       "  </thead>\n",
       "  <tbody>\n",
       "    <tr>\n",
       "      <th>kruh</th>\n",
       "      <td>64.370968</td>\n",
       "      <td>15.524590</td>\n",
       "      <td>1.983871</td>\n",
       "      <td>63.382325</td>\n",
       "      <td>0.984641</td>\n",
       "      <td>62</td>\n",
       "    </tr>\n",
       "    <tr>\n",
       "      <th>sladice</th>\n",
       "      <td>53.883382</td>\n",
       "      <td>13.771137</td>\n",
       "      <td>2.014556</td>\n",
       "      <td>69.980526</td>\n",
       "      <td>1.298740</td>\n",
       "      <td>687</td>\n",
       "    </tr>\n",
       "    <tr>\n",
       "      <th>sirove jedi</th>\n",
       "      <td>48.538462</td>\n",
       "      <td>5.230769</td>\n",
       "      <td>1.769231</td>\n",
       "      <td>25.408710</td>\n",
       "      <td>0.523476</td>\n",
       "      <td>13</td>\n",
       "    </tr>\n",
       "    <tr>\n",
       "      <th>prikuhe</th>\n",
       "      <td>43.000000</td>\n",
       "      <td>2.000000</td>\n",
       "      <td>1.000000</td>\n",
       "      <td>NaN</td>\n",
       "      <td>NaN</td>\n",
       "      <td>1</td>\n",
       "    </tr>\n",
       "    <tr>\n",
       "      <th>ozimnica</th>\n",
       "      <td>41.645833</td>\n",
       "      <td>3.638298</td>\n",
       "      <td>1.770833</td>\n",
       "      <td>40.223043</td>\n",
       "      <td>0.965836</td>\n",
       "      <td>48</td>\n",
       "    </tr>\n",
       "    <tr>\n",
       "      <th>zelenjavne jedi</th>\n",
       "      <td>37.756098</td>\n",
       "      <td>5.780488</td>\n",
       "      <td>1.512195</td>\n",
       "      <td>40.388600</td>\n",
       "      <td>1.069724</td>\n",
       "      <td>41</td>\n",
       "    </tr>\n",
       "  </tbody>\n",
       "</table>\n",
       "</div>"
      ],
      "text/plain": [
       "                 Povprečno št. mnenj  Povprečno št. fotografij  \\\n",
       "kruh                       64.370968                 15.524590   \n",
       "sladice                    53.883382                 13.771137   \n",
       "sirove jedi                48.538462                  5.230769   \n",
       "prikuhe                    43.000000                  2.000000   \n",
       "ozimnica                   41.645833                  3.638298   \n",
       "zelenjavne jedi            37.756098                  5.780488   \n",
       "\n",
       "                 Povprečna zahtevnost  St. odklon mnenj  \\\n",
       "kruh                         1.983871         63.382325   \n",
       "sladice                      2.014556         69.980526   \n",
       "sirove jedi                  1.769231         25.408710   \n",
       "prikuhe                      1.000000               NaN   \n",
       "ozimnica                     1.770833         40.223043   \n",
       "zelenjavne jedi              1.512195         40.388600   \n",
       "\n",
       "                 Koeficient variacije št. mnenj  Število receptov  \n",
       "kruh                                   0.984641                62  \n",
       "sladice                                1.298740               687  \n",
       "sirove jedi                            0.523476                13  \n",
       "prikuhe                                     NaN                 1  \n",
       "ozimnica                               0.965836                48  \n",
       "zelenjavne jedi                        1.069724                41  "
      ]
     },
     "execution_count": 133,
     "metadata": {},
     "output_type": "execute_result"
    }
   ],
   "source": [
    "kategorije_po_mnenjih = kategorije.join(recepti['Št. mnenj'], on='recept').join(\n",
    "recepti['Št. fotografij'], on='recept').join(recepti.Zahtevnost, on='recept')\n",
    "povprecno_stmnenj_kategorije = kategorije_po_mnenjih.groupby('kategorija'\n",
    ").mean().sort_values('Št. mnenj', ascending = False)[['Št. mnenj', 'Št. fotografij', 'Zahtevnost']]\n",
    "povprecno_stmnenj_kategorije['St. odklon mnenj'] = kategorije_po_mnenjih.groupby('kategorija'\n",
    ").std()['Št. mnenj']\n",
    "povprecno_stmnenj_kategorije['Koeficient variacije'] = povprecno_stmnenj_kategorije['St. odklon mnenj']/povprecno_stmnenj_kategorije['Št. mnenj']\n",
    "stevilo_receptov_v_kategorijah = pd.DataFrame(recepti_po_kategorijah.size())\n",
    "povprecno_stmnenj_kategorije = pd.concat([povprecno_stmnenj_kategorije, stevilo_receptov_v_kategorijah], axis = 1)\n",
    "povprecno_stmnenj_kategorije.rename(columns={0:'Število receptov'}, inplace=True)\n",
    "povprecno_stmnenj_kategorije.columns = ['Povprečno št. mnenj', 'Povprečno št. fotografij', \n",
    "        'Povprečna zahtevnost', 'St. odklon mnenj', 'Koeficient variacije št. mnenj', 'Število receptov']\n",
    "povprecno_stmnenj_kategorije.title = ('Povprečja za število mnenj, število fotografij in zahtevnost ter standardni odklon in koeficient variacije za št. mnenj po kategorijah:')\n",
    "povprecno_stmnenj_kategorije.sort_values('Povprečno št. mnenj', ascending=False).head(6)"
   ]
  },
  {
   "cell_type": "markdown",
   "metadata": {},
   "source": [
    "Koeficient variacije v zgornji tabeli predstavlja razmerje med standardnim odklonom in povprečno vrednostjo za število mnenj.\n",
    "\n",
    "Iz zgornjih grafov lahko razberemo, da uporabniki objavljajo največ **sladic** (predvsem **peciva**, **piškote** in **torte**). Zanimivo pa je, da imajo recepti v **kategoriji** **kruh** v povprečju **največ mnenj** in **največ fotografij** (več kot **sladice**). Standardni odkloni so pri večini **kategorij** skoraj enaki povprečjem (**koeficienti variacije** so okrog 1), kar pomeni, da imajo recepti znotraj **kategorij** zelo različno število mnenj. Tudi **sirove jedi** imajo presenetljivo visoko povprečje, glede na to, da spadajo med **kategorije** z manj recepti. Ker smo zajeli le en recept iz kategorije **prikuh**, njihovega povprečja ne moremo upoštevati.\n",
    "- - - \n",
    "Kako je s povprečno **zahtevnostjo**?"
   ]
  },
  {
   "cell_type": "code",
   "execution_count": 140,
   "metadata": {
    "collapsed": false
   },
   "outputs": [
    {
     "data": {
      "text/html": [
       "<div>\n",
       "<table border=\"1\" class=\"dataframe\">\n",
       "  <thead>\n",
       "    <tr style=\"text-align: right;\">\n",
       "      <th></th>\n",
       "      <th>Povprečna zahtevnost</th>\n",
       "      <th>Število receptov</th>\n",
       "    </tr>\n",
       "  </thead>\n",
       "  <tbody>\n",
       "    <tr>\n",
       "      <th>eksotika</th>\n",
       "      <td>2.285714</td>\n",
       "      <td>14</td>\n",
       "    </tr>\n",
       "    <tr>\n",
       "      <th>sladice</th>\n",
       "      <td>2.014556</td>\n",
       "      <td>687</td>\n",
       "    </tr>\n",
       "    <tr>\n",
       "      <th>mesne jedi</th>\n",
       "      <td>2.010526</td>\n",
       "      <td>95</td>\n",
       "    </tr>\n",
       "    <tr>\n",
       "      <th>otroška hrana</th>\n",
       "      <td>2.000000</td>\n",
       "      <td>2</td>\n",
       "    </tr>\n",
       "    <tr>\n",
       "      <th>kruh</th>\n",
       "      <td>1.983871</td>\n",
       "      <td>62</td>\n",
       "    </tr>\n",
       "    <tr>\n",
       "      <th>morska hrana</th>\n",
       "      <td>1.947368</td>\n",
       "      <td>19</td>\n",
       "    </tr>\n",
       "    <tr>\n",
       "      <th>...</th>\n",
       "      <td>...</td>\n",
       "      <td>...</td>\n",
       "    </tr>\n",
       "    <tr>\n",
       "      <th>jajčne jedi</th>\n",
       "      <td>1.444444</td>\n",
       "      <td>9</td>\n",
       "    </tr>\n",
       "    <tr>\n",
       "      <th>juhe in zakuhe</th>\n",
       "      <td>1.428571</td>\n",
       "      <td>28</td>\n",
       "    </tr>\n",
       "    <tr>\n",
       "      <th>omake</th>\n",
       "      <td>1.307692</td>\n",
       "      <td>13</td>\n",
       "    </tr>\n",
       "    <tr>\n",
       "      <th>napitki</th>\n",
       "      <td>1.250000</td>\n",
       "      <td>12</td>\n",
       "    </tr>\n",
       "    <tr>\n",
       "      <th>prikuhe</th>\n",
       "      <td>1.000000</td>\n",
       "      <td>1</td>\n",
       "    </tr>\n",
       "    <tr>\n",
       "      <th>solate</th>\n",
       "      <td>1.000000</td>\n",
       "      <td>7</td>\n",
       "    </tr>\n",
       "  </tbody>\n",
       "</table>\n",
       "<p>21 rows × 2 columns</p>\n",
       "</div>"
      ],
      "text/plain": [
       "                Povprečna zahtevnost  Število receptov\n",
       "eksotika                    2.285714                14\n",
       "sladice                     2.014556               687\n",
       "mesne jedi                  2.010526                95\n",
       "otroška hrana               2.000000                 2\n",
       "kruh                        1.983871                62\n",
       "morska hrana                1.947368                19\n",
       "...                              ...               ...\n",
       "jajčne jedi                 1.444444                 9\n",
       "juhe in zakuhe              1.428571                28\n",
       "omake                       1.307692                13\n",
       "napitki                     1.250000                12\n",
       "prikuhe                     1.000000                 1\n",
       "solate                      1.000000                 7\n",
       "\n",
       "[21 rows x 2 columns]"
      ]
     },
     "execution_count": 140,
     "metadata": {},
     "output_type": "execute_result"
    }
   ],
   "source": [
    "povprecno_stmnenj_kategorije[['Povprečna zahtevnost', 'Število receptov']].sort_values(by = 'Povprečna zahtevnost', ascending=False).head(23)"
   ]
  },
  {
   "cell_type": "markdown",
   "metadata": {},
   "source": [
    "Vidimo, da med daleč najtežje recepte spadajo recepti iz **kategorije** **eksotika**, sledijo pa jim recepti iz **kategorij** **sladice**, **mesne jedi** in **otroška hrana** (le 2 recepta!). Med najlažje pa predvsem recepti iz **kategorije** **solate**, tu jim sledijo recepti iz **kategorij** **prikuhe** (le 1 recept!), **napitki** in **omake**. Pri **kategorijah** z le enim ali dvema receptoma to povprečje morda ne kaže pravilne slike.\n",
    "- - - \n",
    "Poglejmo grafa **spola avtorjev** in **delež receptov glede na posamezen spol**."
   ]
  },
  {
   "cell_type": "code",
   "execution_count": 142,
   "metadata": {
    "collapsed": false
   },
   "outputs": [
    {
     "data": {
      "text/plain": [
       "<matplotlib.axes._subplots.AxesSubplot at 0xb8f1c18>"
      ]
     },
     "execution_count": 142,
     "metadata": {},
     "output_type": "execute_result"
    },
    {
     "data": {
      "image/png": "[encoded data removed]",
      "text/plain": [
       "<matplotlib.figure.Figure at 0xb8b9e80>"
      ]
     },
     "metadata": {},
     "output_type": "display_data"
    }
   ],
   "source": [
    "avtorji_po_spolih = avtorji.groupby('spol')\n",
    "graf_avtorjev_po_spolih = avtorji_po_spolih.size()\n",
    "graf_avtorjev_po_spolih.name = ''\n",
    "graf_avtorjev_po_spolih.plot(kind='pie', autopct = '%.2f%%', colors=['y', 'g', 'r'], title = 'Spol avtorjev')"
   ]
  },
  {
   "cell_type": "code",
   "execution_count": 143,
   "metadata": {
    "collapsed": false
   },
   "outputs": [
    {
     "data": {
      "text/plain": [
       "<matplotlib.axes._subplots.AxesSubplot at 0xb9184a8>"
      ]
     },
     "execution_count": 143,
     "metadata": {},
     "output_type": "execute_result"
    },
    {
     "data": {
      "image/png": "[encoded data removed]",
      "text/plain": [
       "<matplotlib.figure.Figure at 0xb9f9278>"
      ]
     },
     "metadata": {},
     "output_type": "display_data"
    }
   ],
   "source": [
    "recepti_po_spolih = povezave.join(avtorji.spol, on='avtor')\n",
    "graf_receptov_po_spolih = recepti_po_spolih.groupby('spol').size()\n",
    "graf_receptov_po_spolih.name = ''\n",
    "graf_receptov_po_spolih.plot(kind='pie', autopct = '%.2f%%', colors=['y', 'g', 'r'], title = 'Delež receptov glede na spol:')"
   ]
  },
  {
   "cell_type": "code",
   "execution_count": 46,
   "metadata": {
    "collapsed": false
   },
   "outputs": [],
   "source": [
    "recepti_po_spolih = povezave.join(avtorji.spol, on='avtor')\n",
    "kategorije_po_spolih = pd.merge(recepti_po_spolih, kategorije).groupby(\n",
    "    ['spol', 'kategorija']).size().unstack().T\n",
    "\n",
    "za_zenske = kategorije_po_spolih.nlargest(3, 'ženska')['ženska']\n",
    "za_moske = kategorije_po_spolih.nlargest(3, 'moški')['moški']\n",
    "za_marsovce = kategorije_po_spolih.nlargest(3, 'spol ni določen oz. marsovec'\n",
    "                                           )['spol ni določen oz. marsovec']\n",
    "za_zenske = pd.DataFrame(za_zenske)\n",
    "za_zenske['odstotek'] = za_zenske / graf_receptov_po_spolih['ženska']\n",
    "za_zenske.rename(columns={'ženska':'število'}, inplace=True)\n",
    "za_zenske = za_zenske.sort_values(by = 'število', ascending = False, na_position = 'first')\n",
    "\n",
    "za_moske = pd.DataFrame(za_moske)\n",
    "za_moske['odstotek'] = za_moske / graf_receptov_po_spolih['moški']\n",
    "za_moske.rename(columns={'moški':'število'}, inplace=True)\n",
    "za_moske = za_moske.sort_values(by = 'število', ascending = False, na_position = 'first')\n",
    "\n",
    "za_marsovce = pd.DataFrame(za_marsovce)\n",
    "za_marsovce['odstotek'] = za_marsovce / graf_receptov_po_spolih['spol ni določen oz. marsovec']\n",
    "za_marsovce.rename(columns={'spol ni določen oz. marsovec':'število'}, inplace=True)\n",
    "za_marsovce = za_marsovce.sort_values(by = 'število', ascending = False, na_position = 'first')"
   ]
  },
  {
   "cell_type": "markdown",
   "metadata": {},
   "source": [
    "**Prve tri kategorije glede na število receptov za ženske in odstotek le-teh od vseh receptov z žensko avtorico**"
   ]
  },
  {
   "cell_type": "code",
   "execution_count": 47,
   "metadata": {
    "collapsed": false
   },
   "outputs": [
    {
     "data": {
      "text/html": [
       "<div>\n",
       "<table border=\"1\" class=\"dataframe\">\n",
       "  <thead>\n",
       "    <tr style=\"text-align: right;\">\n",
       "      <th></th>\n",
       "      <th>število</th>\n",
       "      <th>odstotek</th>\n",
       "    </tr>\n",
       "    <tr>\n",
       "      <th>kategorija</th>\n",
       "      <th></th>\n",
       "      <th></th>\n",
       "    </tr>\n",
       "  </thead>\n",
       "  <tbody>\n",
       "    <tr>\n",
       "      <th>sladice</th>\n",
       "      <td>580.0</td>\n",
       "      <td>0.605428</td>\n",
       "    </tr>\n",
       "    <tr>\n",
       "      <th>mesne jedi</th>\n",
       "      <td>66.0</td>\n",
       "      <td>0.068894</td>\n",
       "    </tr>\n",
       "    <tr>\n",
       "      <th>kruh</th>\n",
       "      <td>48.0</td>\n",
       "      <td>0.050104</td>\n",
       "    </tr>\n",
       "  </tbody>\n",
       "</table>\n",
       "</div>"
      ],
      "text/plain": [
       "            število  odstotek\n",
       "kategorija                   \n",
       "sladice       580.0  0.605428\n",
       "mesne jedi     66.0  0.068894\n",
       "kruh           48.0  0.050104"
      ]
     },
     "execution_count": 47,
     "metadata": {},
     "output_type": "execute_result"
    }
   ],
   "source": [
    "za_zenske"
   ]
  },
  {
   "cell_type": "markdown",
   "metadata": {},
   "source": [
    "**Prve tri kategorije glede na število receptov za moške in odstotek le-teh od vseh receptov z moškim avtorjem**"
   ]
  },
  {
   "cell_type": "code",
   "execution_count": 48,
   "metadata": {
    "collapsed": false
   },
   "outputs": [
    {
     "data": {
      "text/html": [
       "<div>\n",
       "<table border=\"1\" class=\"dataframe\">\n",
       "  <thead>\n",
       "    <tr style=\"text-align: right;\">\n",
       "      <th></th>\n",
       "      <th>število</th>\n",
       "      <th>odstotek</th>\n",
       "    </tr>\n",
       "    <tr>\n",
       "      <th>kategorija</th>\n",
       "      <th></th>\n",
       "      <th></th>\n",
       "    </tr>\n",
       "  </thead>\n",
       "  <tbody>\n",
       "    <tr>\n",
       "      <th>sladice</th>\n",
       "      <td>15.0</td>\n",
       "      <td>0.217391</td>\n",
       "    </tr>\n",
       "    <tr>\n",
       "      <th>mesne jedi</th>\n",
       "      <td>12.0</td>\n",
       "      <td>0.173913</td>\n",
       "    </tr>\n",
       "    <tr>\n",
       "      <th>kruh</th>\n",
       "      <td>8.0</td>\n",
       "      <td>0.115942</td>\n",
       "    </tr>\n",
       "  </tbody>\n",
       "</table>\n",
       "</div>"
      ],
      "text/plain": [
       "            število  odstotek\n",
       "kategorija                   \n",
       "sladice        15.0  0.217391\n",
       "mesne jedi     12.0  0.173913\n",
       "kruh            8.0  0.115942"
      ]
     },
     "execution_count": 48,
     "metadata": {},
     "output_type": "execute_result"
    }
   ],
   "source": [
    "za_moske"
   ]
  },
  {
   "cell_type": "markdown",
   "metadata": {},
   "source": [
    "**Prve tri kategorije glede na število receptov za nedoločen spol in odstotek le-teh od vseh receptov z avtorjem nedoločenega spola**"
   ]
  },
  {
   "cell_type": "code",
   "execution_count": 49,
   "metadata": {
    "collapsed": false
   },
   "outputs": [
    {
     "data": {
      "text/html": [
       "<div>\n",
       "<table border=\"1\" class=\"dataframe\">\n",
       "  <thead>\n",
       "    <tr style=\"text-align: right;\">\n",
       "      <th></th>\n",
       "      <th>število</th>\n",
       "      <th>odstotek</th>\n",
       "    </tr>\n",
       "    <tr>\n",
       "      <th>kategorija</th>\n",
       "      <th></th>\n",
       "      <th></th>\n",
       "    </tr>\n",
       "  </thead>\n",
       "  <tbody>\n",
       "    <tr>\n",
       "      <th>sladice</th>\n",
       "      <td>76.0</td>\n",
       "      <td>0.513514</td>\n",
       "    </tr>\n",
       "    <tr>\n",
       "      <th>mesne jedi</th>\n",
       "      <td>17.0</td>\n",
       "      <td>0.114865</td>\n",
       "    </tr>\n",
       "    <tr>\n",
       "      <th>priloge</th>\n",
       "      <td>8.0</td>\n",
       "      <td>0.054054</td>\n",
       "    </tr>\n",
       "  </tbody>\n",
       "</table>\n",
       "</div>"
      ],
      "text/plain": [
       "            število  odstotek\n",
       "kategorija                   \n",
       "sladice        76.0  0.513514\n",
       "mesne jedi     17.0  0.114865\n",
       "priloge         8.0  0.054054"
      ]
     },
     "execution_count": 49,
     "metadata": {},
     "output_type": "execute_result"
    }
   ],
   "source": [
    "za_marsovce"
   ]
  },
  {
   "cell_type": "markdown",
   "metadata": {},
   "source": [
    "Prvi graf zgoraj prikazuje, koliko odstotkov avtorjev je katerega **spola** (prevladujejo **ženske**). Drugi graf prikazuje, koliko odstotkov receptov so napisali predstavniki kakega **spola** (glede na prejšnji graf se razlikuje predvsem pri **nedoločenem spolu** in pri **moških**). Iz tega sledi, da **ženske avtorice** v povprečju napišejo več receptov kot **moški avtorji**. Zgoraj pa vidimo, za katere kategorije posamezni **spoli** napišejo največ receptov. Pri vseh sta prvi dve **kategoriji** **sladice** in **mesne jedi**, razlikujejo pa se pri tretji - pri **moških** in **ženskah** je to **kruh**, pri **nedoločenem spolu** pa **priloge**. Odstotek nam pove, kolikšen delež receptov, ki jih je napisal avtor tistega **spola**, predstavlja ta **kategorija**. Pri **ženskah** in **nedoločenem spolu** **sladice** predstavljajo večino njihovih receptov, pri **moških** pa so **kategorije** bolj enakomerno razporejene.\n",
    "- - - \n",
    "Zanima nas tudi, ali imajo starejši recepti več **mnenj** kot novi, zato si bomo ogledali naslednji graf."
   ]
  },
  {
   "cell_type": "code",
   "execution_count": 123,
   "metadata": {
    "collapsed": false
   },
   "outputs": [
    {
     "data": {
      "text/plain": [
       "<matplotlib.axes._subplots.AxesSubplot at 0xb81aba8>"
      ]
     },
     "execution_count": 123,
     "metadata": {},
     "output_type": "execute_result"
    },
    {
     "data": {
      "image/png": "[encoded data removed]",
      "text/plain": [
       "<matplotlib.figure.Figure at 0xb8fc080>"
      ]
     },
     "metadata": {},
     "output_type": "display_data"
    }
   ],
   "source": [
    "recepti.plot(x = 'Datum objave', y = 'Št. mnenj', title = 'Graf mnenj glede na datum objave recepta')"
   ]
  },
  {
   "cell_type": "markdown",
   "metadata": {},
   "source": [
    "Vidimo, da recepti z največ **mnenji** niso niti najnovejši niti najstarejši med recepti. Te podatke lahko razložimo preprosto tako, da spletna stran na začetku še ni bila zelo obiskana in ni imela veliko uporabnikov, novejši recepti pa na strani še niso dovolj dolgo, da bi pridobili veliko **število mnenj**.\n",
    "- - - \n",
    "Nekaj receptov ima podatek, da spadajo med **bolj zdrave jedi** - primerjajmo jih z ostalimi."
   ]
  },
  {
   "cell_type": "markdown",
   "metadata": {},
   "source": [
    "**Povprečna zahtevnost, število mnenj in število fotografij za bolj zdrave jedi in ostale jedi**"
   ]
  },
  {
   "cell_type": "code",
   "execution_count": 145,
   "metadata": {
    "collapsed": false
   },
   "outputs": [
    {
     "data": {
      "text/html": [
       "<div>\n",
       "<table border=\"1\" class=\"dataframe\">\n",
       "  <thead>\n",
       "    <tr style=\"text-align: right;\">\n",
       "      <th></th>\n",
       "      <th>Zahtevnost</th>\n",
       "      <th>Št. mnenj</th>\n",
       "      <th>Št. fotografij</th>\n",
       "    </tr>\n",
       "  </thead>\n",
       "  <tbody>\n",
       "    <tr>\n",
       "      <th>Ostali recepti</th>\n",
       "      <td>1.907861</td>\n",
       "      <td>46.664975</td>\n",
       "      <td>10.454390</td>\n",
       "    </tr>\n",
       "    <tr>\n",
       "      <th>Zdravi recepti</th>\n",
       "      <td>1.411765</td>\n",
       "      <td>37.647059</td>\n",
       "      <td>6.882353</td>\n",
       "    </tr>\n",
       "  </tbody>\n",
       "</table>\n",
       "</div>"
      ],
      "text/plain": [
       "                Zahtevnost  Št. mnenj  Št. fotografij\n",
       "Ostali recepti    1.907861  46.664975       10.454390\n",
       "Zdravi recepti    1.411765  37.647059        6.882353"
      ]
     },
     "execution_count": 145,
     "metadata": {},
     "output_type": "execute_result"
    }
   ],
   "source": [
    "zdrave_jedi = recepti[recepti['Zdrava jed'] == 'Bolj zdrava jed']\n",
    "zdrave = zdrave_jedi[['Zahtevnost', 'Št. mnenj', 'Št. fotografij']].mean()\n",
    "zdrave = pd.DataFrame(zdrave)\n",
    "zdrave.rename(columns={0:'Zdravi recepti'}, inplace=True)\n",
    "ostale_jedi = recepti[recepti['Zdrava jed'] != 'Bolj zdrava jed']\n",
    "ostale = ostale_jedi[['Zahtevnost', 'Št. mnenj', 'Št. fotografij']].mean()\n",
    "ostale = pd.DataFrame(ostale)\n",
    "ostale.rename(columns={0:'Ostali recepti'}, inplace=True)\n",
    "pd.concat([ostale.T, zdrave.T])"
   ]
  },
  {
   "cell_type": "markdown",
   "metadata": {},
   "source": [
    "V povprečju so torej **bolj zdrave jedi** med manj ogledanimi (manj mnenj) in pripravljenimi (manj fotografij), čeprav je povprečna **zahtevnost** nižja od povprečne **zahtevnosti** ostalih jedi. Priprava **zdravih jedi** se torej ne zdi zelo zahtevna.\n",
    "- - - \n",
    "Pri podatkih o **času priprave** je tudi podatek 4+ ur, ki ga pri računanju povprečja ne moremo uporabiti."
   ]
  },
  {
   "cell_type": "markdown",
   "metadata": {},
   "source": [
    "**Število receptov z določenim časom priprave (v minutah)**"
   ]
  },
  {
   "cell_type": "code",
   "execution_count": 166,
   "metadata": {
    "collapsed": false
   },
   "outputs": [
    {
     "data": {
      "text/html": [
       "<div>\n",
       "<table border=\"1\" class=\"dataframe\">\n",
       "  <thead>\n",
       "    <tr style=\"text-align: right;\">\n",
       "      <th></th>\n",
       "      <th>Število receptov</th>\n",
       "    </tr>\n",
       "    <tr>\n",
       "      <th>Čas priprave</th>\n",
       "      <th></th>\n",
       "    </tr>\n",
       "  </thead>\n",
       "  <tbody>\n",
       "    <tr>\n",
       "      <th>60</th>\n",
       "      <td>142</td>\n",
       "    </tr>\n",
       "    <tr>\n",
       "      <th>45</th>\n",
       "      <td>118</td>\n",
       "    </tr>\n",
       "    <tr>\n",
       "      <th>120</th>\n",
       "      <td>94</td>\n",
       "    </tr>\n",
       "    <tr>\n",
       "      <th>30</th>\n",
       "      <td>91</td>\n",
       "    </tr>\n",
       "    <tr>\n",
       "      <th>90</th>\n",
       "      <td>90</td>\n",
       "    </tr>\n",
       "    <tr>\n",
       "      <th>75</th>\n",
       "      <td>61</td>\n",
       "    </tr>\n",
       "    <tr>\n",
       "      <th>180</th>\n",
       "      <td>41</td>\n",
       "    </tr>\n",
       "    <tr>\n",
       "      <th>15</th>\n",
       "      <td>31</td>\n",
       "    </tr>\n",
       "    <tr>\n",
       "      <th>4+ ur</th>\n",
       "      <td>28</td>\n",
       "    </tr>\n",
       "    <tr>\n",
       "      <th>240</th>\n",
       "      <td>10</td>\n",
       "    </tr>\n",
       "    <tr>\n",
       "      <th>5</th>\n",
       "      <td>8</td>\n",
       "    </tr>\n",
       "    <tr>\n",
       "      <th>150</th>\n",
       "      <td>4</td>\n",
       "    </tr>\n",
       "  </tbody>\n",
       "</table>\n",
       "</div>"
      ],
      "text/plain": [
       "              Število receptov\n",
       "Čas priprave                  \n",
       "60                         142\n",
       "45                         118\n",
       "120                         94\n",
       "30                          91\n",
       "90                          90\n",
       "75                          61\n",
       "180                         41\n",
       "15                          31\n",
       "4+ ur                       28\n",
       "240                         10\n",
       "5                            8\n",
       "150                          4"
      ]
     },
     "execution_count": 166,
     "metadata": {},
     "output_type": "execute_result"
    }
   ],
   "source": [
    "recepti_po_casu = recepti.groupby('Čas priprave')\n",
    "recepti_po_casu = pd.DataFrame(recepti_po_casu.size().sort_values(ascending = False))\n",
    "recepti_po_casu = recepti_po_casu.rename(columns = {0:'Število receptov'})\n",
    "recepti_po_casu"
   ]
  },
  {
   "cell_type": "markdown",
   "metadata": {},
   "source": [
    "Glede na zgornje podatke vidimo, da ima največ receptov **čas priprave** 60 minut, sledijo pa jim recepti s **časom priprave** 45 minut.\n",
    "- - -\n",
    "Graf spodaj pa prikazuje število receptov za posamezno **zahtevnost** (1 = najlažje, 5 = najtežje). Receptov **težavnosti** 4. ali 5. stopnje ni veliko."
   ]
  },
  {
   "cell_type": "code",
   "execution_count": 124,
   "metadata": {
    "collapsed": false,
    "scrolled": true
   },
   "outputs": [
    {
     "data": {
      "text/plain": [
       "<matplotlib.axes._subplots.AxesSubplot at 0xb8046d8>"
      ]
     },
     "execution_count": 124,
     "metadata": {},
     "output_type": "execute_result"
    },
    {
     "data": {
      "image/png": "[encoded data removed]",
      "text/plain": [
       "<matplotlib.figure.Figure at 0xb7de860>"
      ]
     },
     "metadata": {},
     "output_type": "display_data"
    }
   ],
   "source": [
    "recepti_po_tezavnosti = recepti.groupby('Zahtevnost')\n",
    "recepti_po_tezavnosti.size().plot(kind = 'bar', color=['r', 'g', 'b', 'c', 'y'], title = 'Število receptov za vsako težavnost')"
   ]
  },
  {
   "cell_type": "markdown",
   "metadata": {},
   "source": [
    "Ali so recepti, ki jih pripravljamo dlje, tudi težji? Spodnji graf prikazuje povprečno **težavnost** za posamezen **čas priprave**. Večina hitreje pripravljenih receptov ima res nižjo povprečno **težavnost** od receptov z daljšim **časom priprave**."
   ]
  },
  {
   "cell_type": "code",
   "execution_count": 125,
   "metadata": {
    "collapsed": false
   },
   "outputs": [
    {
     "data": {
      "text/plain": [
       "<matplotlib.axes._subplots.AxesSubplot at 0xb6e9748>"
      ]
     },
     "execution_count": 125,
     "metadata": {},
     "output_type": "execute_result"
    },
    {
     "data": {
      "image/png": "[encoded data removed]",
      "text/plain": [
       "<matplotlib.figure.Figure at 0xba8fd30>"
      ]
     },
     "metadata": {},
     "output_type": "display_data"
    }
   ],
   "source": [
    "cas_in_zahtevnost = recepti_po_casu.mean()['Zahtevnost']\n",
    "cas_in_zahtevnost = cas_in_zahtevnost[['5', '15', '30', '45', '60', '75', '90', '120', '150', '180', '240', '4+ ur']]\n",
    "cas_in_zahtevnost.plot(kind = 'bar', title = 'Povprečna zahtevnost za vsak čas priprave')"
   ]
  },
  {
   "cell_type": "markdown",
   "metadata": {},
   "source": [
    "Če odvzamemo podatek o **času priprave** 4+ ur, lahko izračunamo povprečen **čas priprave** (v minutah) za posamezno **težavnost**. To je prikazano v grafu spodaj. Povprečen **čas priprave** narašča glede na **zahtevnost**, pri **težavnosti** 5. stopnje pa je nepričakovano kratek."
   ]
  },
  {
   "cell_type": "code",
   "execution_count": 126,
   "metadata": {
    "collapsed": false
   },
   "outputs": [
    {
     "data": {
      "text/plain": [
       "<matplotlib.axes._subplots.AxesSubplot at 0xb9cef98>"
      ]
     },
     "execution_count": 126,
     "metadata": {},
     "output_type": "execute_result"
    },
    {
     "data": {
      "image/png": "[encoded data removed]",
      "text/plain": [
       "<matplotlib.figure.Figure at 0xb4f66a0>"
      ]
     },
     "metadata": {},
     "output_type": "display_data"
    }
   ],
   "source": [
    "numericni_cas = pd.to_numeric(recepti['Čas priprave'], errors='coerce')\n",
    "zahtevnost = pd.DataFrame(recepti['Zahtevnost'])\n",
    "zahtevnost_in_cas = pd.concat([zahtevnost, numericni_cas], axis=1, join='inner')\n",
    "zahtevnost_in_cas.groupby('Zahtevnost').mean().plot(kind = 'bar', color=['r', 'g', 'b', 'c', 'y'], legend=False, title = \n",
    "                                                   'Povprečen čas priprave za vsako zahtevnost')"
   ]
  },
  {
   "cell_type": "markdown",
   "metadata": {},
   "source": [
    "Da razložimo pojav pri 5. **težavnostni** stopnji, si lahko pogledamo število receptov za posamezno **zahtevnost**. Ostal nam je le en recept **težavnosti** 5. stopnje, zato zgornji povprečen **čas priprave** ne prikazuje realne slike (ni dejansko povprečje). Preostale recepte 5. **težavnosti** smo očitno odstranili, ko smo odstranili recepte s **časom priprave** 4+ ur (torej imajo recepti te **težavnosti** res dolg **čas priprave**, ki pa ga nismo mogli izračunati)."
   ]
  },
  {
   "cell_type": "markdown",
   "metadata": {},
   "source": [
    "**Število receptov za vsako zahtevnost (brez receptov s časom priprave 4+ ur)**"
   ]
  },
  {
   "cell_type": "code",
   "execution_count": 97,
   "metadata": {
    "collapsed": false,
    "scrolled": true
   },
   "outputs": [
    {
     "data": {
      "text/html": [
       "<div>\n",
       "<table border=\"1\" class=\"dataframe\">\n",
       "  <thead>\n",
       "    <tr style=\"text-align: right;\">\n",
       "      <th></th>\n",
       "      <th>Čas priprave</th>\n",
       "    </tr>\n",
       "    <tr>\n",
       "      <th>Zahtevnost</th>\n",
       "      <th></th>\n",
       "    </tr>\n",
       "  </thead>\n",
       "  <tbody>\n",
       "    <tr>\n",
       "      <th>1</th>\n",
       "      <td>228</td>\n",
       "    </tr>\n",
       "    <tr>\n",
       "      <th>2</th>\n",
       "      <td>307</td>\n",
       "    </tr>\n",
       "    <tr>\n",
       "      <th>3</th>\n",
       "      <td>135</td>\n",
       "    </tr>\n",
       "    <tr>\n",
       "      <th>4</th>\n",
       "      <td>19</td>\n",
       "    </tr>\n",
       "    <tr>\n",
       "      <th>5</th>\n",
       "      <td>1</td>\n",
       "    </tr>\n",
       "  </tbody>\n",
       "</table>\n",
       "</div>"
      ],
      "text/plain": [
       "            Čas priprave\n",
       "Zahtevnost              \n",
       "1                    228\n",
       "2                    307\n",
       "3                    135\n",
       "4                     19\n",
       "5                      1"
      ]
     },
     "execution_count": 97,
     "metadata": {},
     "output_type": "execute_result"
    }
   ],
   "source": [
    "zahtevnost_in_cas[pd.notnull(zahtevnost_in_cas['Čas priprave'])].groupby('Zahtevnost').count()"
   ]
  },
  {
   "cell_type": "markdown",
   "metadata": {},
   "source": [
    "Spodaj vidimo, da je podatek o **količini hrane**, ki jo z receptom pripravimo, merjen na različne načine in z njim težko karkoli izračunamo. Največ receptov pa ima **količine** za 2 ali 4 osebe."
   ]
  },
  {
   "cell_type": "markdown",
   "metadata": {},
   "source": [
    "**Število receptov z določeno količino pripravljene hrane**"
   ]
  },
  {
   "cell_type": "code",
   "execution_count": 98,
   "metadata": {
    "collapsed": false
   },
   "outputs": [
    {
     "data": {
      "text/plain": [
       "Količina\n",
       "                        1\n",
       "en klasičen pekač       1\n",
       "dva rebrasta modela     1\n",
       "dva pekača              1\n",
       "do 30 piškotov          1\n",
       "cirka 20 komadov        1\n",
       "                       ..\n",
       "2 osebi                10\n",
       "za 2 osebi             15\n",
       "4                      15\n",
       "12 kosov               18\n",
       "za 4 osebe             31\n",
       "4 osebe                36\n",
       "dtype: int64"
      ]
     },
     "execution_count": 98,
     "metadata": {},
     "output_type": "execute_result"
    }
   ],
   "source": [
    "recepti_po_kolicinah = recepti.groupby('Količina')\n",
    "recepti_po_kolicinah.size().sort_values()"
   ]
  },
  {
   "cell_type": "markdown",
   "metadata": {},
   "source": [
    "Kako pa je z razporeditvijo receptov skozi **mesece**? Vzemimo za primer **sladice**:"
   ]
  },
  {
   "cell_type": "code",
   "execution_count": 128,
   "metadata": {
    "collapsed": false
   },
   "outputs": [
    {
     "data": {
      "text/plain": [
       "<matplotlib.axes._subplots.AxesSubplot at 0xbb7d9e8>"
      ]
     },
     "execution_count": 128,
     "metadata": {},
     "output_type": "execute_result"
    },
    {
     "data": {
      "image/png": "[encoded data removed]",
      "text/plain": [
       "<matplotlib.figure.Figure at 0xbb83048>"
      ]
     },
     "metadata": {},
     "output_type": "display_data"
    }
   ],
   "source": [
    "kategorije_meseci = kategorije.join(recepti['Mesec objave'], on='recept'). join(recepti['Datum objave'], on='recept')\n",
    "sladice_mesec = kategorije_meseci[kategorije_meseci['kategorija'] == 'sladice']\n",
    "stevilo_sladic = sladice_mesec.groupby('Mesec objave').size()\n",
    "stevilo_sladic = pd.DataFrame(stevilo_sladic)\n",
    "stevilo_sladic['delež'] = stevilo_sladic / recepti_po_kategorijah.size()['sladice']\n",
    "stevilo_sladic = stevilo_sladic.rename(columns = {0:'število'})\n",
    "stevilo_sladic['delež'].plot(title = 'Število receptov v kategoriji sladice za posamezen mesec')"
   ]
  },
  {
   "cell_type": "markdown",
   "metadata": {},
   "source": [
    "Vidimo, da je delež **sladic**, objavljenih v **zimskem obdobju**, občutno večji kot delež **sladic**, objavljenih med **poletjem**.\n",
    "- - -\n",
    "Ker je **sladic** tako veliko, si lahko še ogledamo, kdo objavlja največ **sladic** in kakšnega **spola** so njihovi avtorji:"
   ]
  },
  {
   "cell_type": "code",
   "execution_count": 156,
   "metadata": {
    "collapsed": false
   },
   "outputs": [
    {
     "data": {
      "text/plain": [
       "<matplotlib.axes._subplots.AxesSubplot at 0xdff8c88>"
      ]
     },
     "execution_count": 156,
     "metadata": {},
     "output_type": "execute_result"
    },
    {
     "data": {
      "image/png": "[encoded data removed]",
      "text/plain": [
       "<matplotlib.figure.Figure at 0xe004518>"
      ]
     },
     "metadata": {},
     "output_type": "display_data"
    }
   ],
   "source": [
    "kategorije_avtorji = pd.merge(povezave, kategorije)\n",
    "kategorije_avtorji = kategorije_avtorji[(kategorije_avtorji['kategorija'] == 'sladice')].groupby(\n",
    "    'avtor').size().sort_values(ascending = False)\n",
    "kategorije_avtorji = pd.DataFrame(kategorije_avtorji)\n",
    "kategorije_avtorji = kategorije_avtorji.rename(columns = {0:'število'})\n",
    "kategorije_avtorji = kategorije_avtorji.join(avtorji)\n",
    "kategorije_avtorji = kategorije_avtorji.groupby('spol').size()\n",
    "kategorije_avtorji.name = ''\n",
    "kategorije_avtorji.plot(kind = 'pie', autopct = '%.2f%%', colors=['y', 'g', 'r'], title = \n",
    "                                               'Graf deležev avtorjev receptov v kategoriji sladice po spolu glede na vse avtorje sladic')"
   ]
  },
  {
   "cell_type": "markdown",
   "metadata": {},
   "source": [
    "**Delež avtorjev, ki so napisali recept v kategoriji sladice, glede na vse avtorje tega spola**"
   ]
  },
  {
   "cell_type": "code",
   "execution_count": 101,
   "metadata": {
    "collapsed": false
   },
   "outputs": [
    {
     "data": {
      "text/plain": [
       "spol\n",
       "moški                           0.285714\n",
       "spol ni določen oz. marsovec    0.706897\n",
       "ženska                          0.713987\n",
       "Name: delež, dtype: float64"
      ]
     },
     "execution_count": 101,
     "metadata": {},
     "output_type": "execute_result"
    }
   ],
   "source": [
    "delez_receptov_spola = pd.DataFrame(kategorije_avtorji.groupby('spol').size())\n",
    "delez_receptov_spola = delez_receptov_spola.rename(columns = {0:'število'})\n",
    "delez_receptov_spola = delez_receptov_spola.join(graf_avtorjev_po_spolih)\n",
    "delez_receptov_spola['delež'] = delez_receptov_spola['število'] / delez_receptov_spola['Spol avtorjev']\n",
    "delez_receptov_spola['delež']"
   ]
  },
  {
   "cell_type": "markdown",
   "metadata": {},
   "source": [
    "**Prvih 10 avtorjev glede na število receptov v kategoriji sladice**"
   ]
  },
  {
   "cell_type": "code",
   "execution_count": 102,
   "metadata": {
    "collapsed": false,
    "scrolled": true
   },
   "outputs": [
    {
     "data": {
      "text/html": [
       "<div>\n",
       "<table border=\"1\" class=\"dataframe\">\n",
       "  <thead>\n",
       "    <tr style=\"text-align: right;\">\n",
       "      <th></th>\n",
       "      <th>število</th>\n",
       "      <th>avtor</th>\n",
       "      <th>spol</th>\n",
       "    </tr>\n",
       "    <tr>\n",
       "      <th>avtor</th>\n",
       "      <th></th>\n",
       "      <th></th>\n",
       "      <th></th>\n",
       "    </tr>\n",
       "  </thead>\n",
       "  <tbody>\n",
       "    <tr>\n",
       "      <th>jade</th>\n",
       "      <td>18</td>\n",
       "      <td>jade</td>\n",
       "      <td>ženska</td>\n",
       "    </tr>\n",
       "    <tr>\n",
       "      <th>marinka</th>\n",
       "      <td>14</td>\n",
       "      <td>Marinka</td>\n",
       "      <td>ženska</td>\n",
       "    </tr>\n",
       "    <tr>\n",
       "      <th>mamamia</th>\n",
       "      <td>13</td>\n",
       "      <td>mamamia</td>\n",
       "      <td>ženska</td>\n",
       "    </tr>\n",
       "    <tr>\n",
       "      <th>riko</th>\n",
       "      <td>13</td>\n",
       "      <td>Riko</td>\n",
       "      <td>spol ni določen oz. marsovec</td>\n",
       "    </tr>\n",
       "    <tr>\n",
       "      <th>bannanna</th>\n",
       "      <td>12</td>\n",
       "      <td>bannanna</td>\n",
       "      <td>ženska</td>\n",
       "    </tr>\n",
       "    <tr>\n",
       "      <th>vanja_v_zda</th>\n",
       "      <td>11</td>\n",
       "      <td>Vanja_v_ZDA</td>\n",
       "      <td>ženska</td>\n",
       "    </tr>\n",
       "    <tr>\n",
       "      <th>majdi</th>\n",
       "      <td>10</td>\n",
       "      <td>majdi</td>\n",
       "      <td>ženska</td>\n",
       "    </tr>\n",
       "    <tr>\n",
       "      <th>tiuba</th>\n",
       "      <td>9</td>\n",
       "      <td>TIUBA</td>\n",
       "      <td>ženska</td>\n",
       "    </tr>\n",
       "    <tr>\n",
       "      <th>marta</th>\n",
       "      <td>9</td>\n",
       "      <td>marta</td>\n",
       "      <td>ženska</td>\n",
       "    </tr>\n",
       "    <tr>\n",
       "      <th>1bdv35xaykwwsb40</th>\n",
       "      <td>8</td>\n",
       "      <td>šjorca</td>\n",
       "      <td>ženska</td>\n",
       "    </tr>\n",
       "  </tbody>\n",
       "</table>\n",
       "</div>"
      ],
      "text/plain": [
       "                  število        avtor                          spol\n",
       "avtor                                                               \n",
       "jade                   18         jade                        ženska\n",
       "marinka                14      Marinka                        ženska\n",
       "mamamia                13      mamamia                        ženska\n",
       "riko                   13         Riko  spol ni določen oz. marsovec\n",
       "bannanna               12     bannanna                        ženska\n",
       "vanja_v_zda            11  Vanja_v_ZDA                        ženska\n",
       "majdi                  10        majdi                        ženska\n",
       "tiuba                   9        TIUBA                        ženska\n",
       "marta                   9        marta                        ženska\n",
       "1bdv35xaykwwsb40        8       šjorca                        ženska"
      ]
     },
     "execution_count": 102,
     "metadata": {},
     "output_type": "execute_result"
    }
   ],
   "source": [
    "kategorije_avtorji.head(10)"
   ]
  },
  {
   "cell_type": "markdown",
   "metadata": {},
   "source": [
    "Veliko večino receptov v kategoriji **sladice** torej napišejo **ženske**. Tabela pod grafom pa nam pokaže, da približno 70% **žensk** in avtorjev **nedoločenega spola** objavlja **sladice**, medtem ko le okoli 30% **moških** objavlja recepte te **kategorije**.\n",
    "\n",
    "Pri eni od prejšnjih tabel smo računali deleže za posamezne **spole** (za njihove prve tri **kategorije**) glede na recepte (kjer so za več receptov lahko enaki avtorji, tj. enak **spol**), tu pa računamo deleže glede na avtorje (torej se ti ne ponavljajo).\n",
    "- - -\n",
    "Kako pa je pri ostalih bolj popularnih **kategorijah**? Poglejmo si še recepte v **kategoriji** **kruh**."
   ]
  },
  {
   "cell_type": "code",
   "execution_count": 161,
   "metadata": {
    "collapsed": false
   },
   "outputs": [
    {
     "data": {
      "text/plain": [
       "<matplotlib.axes._subplots.AxesSubplot at 0xe42c7b8>"
      ]
     },
     "execution_count": 161,
     "metadata": {},
     "output_type": "execute_result"
    },
    {
     "data": {
      "image/png": "[encoded data removed]",
      "text/plain": [
       "<matplotlib.figure.Figure at 0xe434a20>"
      ]
     },
     "metadata": {},
     "output_type": "display_data"
    }
   ],
   "source": [
    "kategorije_avtorji_kruh = pd.merge(povezave, kategorije)\n",
    "kategorije_avtorji_kruh = kategorije_avtorji_kruh[(kategorije_avtorji_kruh['kategorija'] == 'kruh')].groupby(\n",
    "    'avtor').size().sort_values(ascending = False)\n",
    "kategorije_avtorji_kruh = pd.DataFrame(kategorije_avtorji_kruh)\n",
    "kategorije_avtorji_kruh = kategorije_avtorji_kruh.rename(columns = {0:'število'})\n",
    "kategorije_avtorji_kruh = kategorije_avtorji_kruh.join(avtorji)\n",
    "kategorije_avtorji_kruh = kategorije_avtorji_kruh.groupby('spol').size()\n",
    "kategorije_avtorji_kruh.name = ''\n",
    "kategorije_avtorji_kruh.plot(kind = 'pie', autopct = '%.2f%%', colors=['y', 'g', 'r'], title = \n",
    "                                                   'Graf deležev avtorjev receptov v kategoriji kruh po spolu glede na vse avtorje receptov za kruh')"
   ]
  },
  {
   "cell_type": "markdown",
   "metadata": {},
   "source": [
    "**Delež avtorjev, ki so napisali recept v kategoriji kruh, glede na vse avtorje tega spola**"
   ]
  },
  {
   "cell_type": "code",
   "execution_count": 104,
   "metadata": {
    "collapsed": false
   },
   "outputs": [
    {
     "data": {
      "text/plain": [
       "spol\n",
       "moški                           0.122449\n",
       "spol ni določen oz. marsovec    0.103448\n",
       "ženska                          0.081420\n",
       "Name: delež, dtype: float64"
      ]
     },
     "execution_count": 104,
     "metadata": {},
     "output_type": "execute_result"
    }
   ],
   "source": [
    "delez_receptov_spola_kruh = pd.DataFrame(kategorije_avtorji_kruh.groupby('spol').size())\n",
    "delez_receptov_spola_kruh = delez_receptov_spola_kruh.rename(columns = {0:'število'})\n",
    "delez_receptov_spola_kruh = delez_receptov_spola_kruh.join(graf_avtorjev_po_spolih)\n",
    "delez_receptov_spola_kruh['delež'] = delez_receptov_spola_kruh['število'] / delez_receptov_spola_kruh['Spol avtorjev']\n",
    "delez_receptov_spola_kruh['delež']"
   ]
  },
  {
   "cell_type": "markdown",
   "metadata": {},
   "source": [
    "Zgornji podatki nam pokažejo, da sicer **ženske** napišejo večino receptov tudi v tej **kategoriji** (**ženskih** avtoric je namreč dosti več kot avtorjev ostalih **spolov**), ampak je delež **ženskih** avtoric, ki pišejo recepte v tej **kategoriji** le 8%. Medtem pa 12% **moških** avtorjev piše za to **kategorijo**.\n",
    "- - -\n",
    "Kako je pri **mesnih jedeh**?"
   ]
  },
  {
   "cell_type": "code",
   "execution_count": 162,
   "metadata": {
    "collapsed": false
   },
   "outputs": [
    {
     "data": {
      "text/plain": [
       "<matplotlib.axes._subplots.AxesSubplot at 0xe5a3278>"
      ]
     },
     "execution_count": 162,
     "metadata": {},
     "output_type": "execute_result"
    },
    {
     "data": {
      "image/png": "[encoded data removed]",
      "text/plain": [
       "<matplotlib.figure.Figure at 0xe6f1550>"
      ]
     },
     "metadata": {},
     "output_type": "display_data"
    }
   ],
   "source": [
    "kategorije_avtorji_meso = pd.merge(povezave, kategorije)\n",
    "kategorije_avtorji_meso = kategorije_avtorji_meso[(kategorije_avtorji_meso['kategorija'] == 'mesne jedi')].groupby(\n",
    "    'avtor').size().sort_values(ascending = False)\n",
    "kategorije_avtorji_meso = pd.DataFrame(kategorije_avtorji_meso)\n",
    "kategorije_avtorji_meso = kategorije_avtorji_meso.rename(columns = {0:'število'})\n",
    "kategorije_avtorji_meso = kategorije_avtorji_meso.join(avtorji)\n",
    "kategorije_avtorji_meso = kategorije_avtorji_meso.groupby('spol').size()\n",
    "kategorije_avtorji_meso.name = ''\n",
    "kategorije_avtorji_meso.plot(kind = 'pie', autopct = '%.2f%%', colors=['y', 'g', 'r'], title = \n",
    "                                                   'Graf deležev avtorjev receptov v kategoriji mesne jedi po spolu glede na vse avtorje mesnih jedi')"
   ]
  },
  {
   "cell_type": "markdown",
   "metadata": {},
   "source": [
    "**Delež avtorjev, ki so napisali recept v kategoriji mesne jedi, glede na vse avtorje tega spola**"
   ]
  },
  {
   "cell_type": "code",
   "execution_count": 106,
   "metadata": {
    "collapsed": false
   },
   "outputs": [
    {
     "data": {
      "text/plain": [
       "spol\n",
       "moški                           0.142857\n",
       "spol ni določen oz. marsovec    0.120690\n",
       "ženska                          0.108559\n",
       "Name: delež, dtype: float64"
      ]
     },
     "execution_count": 106,
     "metadata": {},
     "output_type": "execute_result"
    }
   ],
   "source": [
    "delez_receptov_spola_meso = pd.DataFrame(kategorije_avtorji_meso.groupby('spol').size())\n",
    "delez_receptov_spola_meso = delez_receptov_spola_meso.rename(columns = {0:'število'})\n",
    "delez_receptov_spola_meso = delez_receptov_spola_meso.join(graf_avtorjev_po_spolih)\n",
    "delez_receptov_spola_meso['delež'] = delez_receptov_spola_meso['število'] / delez_receptov_spola_meso['Spol avtorjev']\n",
    "delez_receptov_spola_meso['delež']"
   ]
  },
  {
   "cell_type": "markdown",
   "metadata": {},
   "source": [
    "Pri **mesnih jedeh** je podobno kot pri kruhu večina receptov napisana s strani **ženskih** avtoric, a je odstotek **moških** avtorjev, ki pišejo za to **kategorijo**, višji kot odstotek **ženskih** avtoric.\n",
    "- - -\n",
    "Zadnja **kategorija**, ki jo bomo tako obravnavali, so **zelenjavne jedi**:"
   ]
  },
  {
   "cell_type": "code",
   "execution_count": 163,
   "metadata": {
    "collapsed": false
   },
   "outputs": [
    {
     "data": {
      "text/plain": [
       "<matplotlib.axes._subplots.AxesSubplot at 0xe745710>"
      ]
     },
     "execution_count": 163,
     "metadata": {},
     "output_type": "execute_result"
    },
    {
     "data": {
      "image/png": "[encoded data removed]",
      "text/plain": [
       "<matplotlib.figure.Figure at 0xe7556a0>"
      ]
     },
     "metadata": {},
     "output_type": "display_data"
    }
   ],
   "source": [
    "kategorije_avtorji_zelenjava = pd.merge(povezave, kategorije)\n",
    "kategorije_avtorji_zelenjava = kategorije_avtorji_zelenjava[(kategorije_avtorji_zelenjava['kategorija']\n",
    "    == 'zelenjavne jedi')].groupby('avtor').size().sort_values(ascending = False)\n",
    "kategorije_avtorji_zelenjava = pd.DataFrame(kategorije_avtorji_zelenjava)\n",
    "kategorije_avtorji_zelenjava = kategorije_avtorji_zelenjava.rename(columns = {0:'število'})\n",
    "kategorije_avtorji_zelenjava = kategorije_avtorji_zelenjava.join(avtorji)\n",
    "kategorije_avtorji_zelenjava = kategorije_avtorji_zelenjava.groupby('spol').size()\n",
    "kategorije_avtorji_zelenjava.name = ''\n",
    "kategorije_avtorji_zelenjava.plot(kind = 'pie', autopct = '%.2f%%', colors=['g', 'r'], title = \n",
    "                                                        'Graf deležev avtorjev receptov v kategoriji zelenjavne jedi po spolu glede na vse avtorje zelenjavnih jedi')"
   ]
  },
  {
   "cell_type": "markdown",
   "metadata": {},
   "source": [
    "**Delež avtorjev, ki so napisali recept v kategoriji zelenjavne jedi, glede na vse avtorje tega spola**"
   ]
  },
  {
   "cell_type": "code",
   "execution_count": 108,
   "metadata": {
    "collapsed": false
   },
   "outputs": [
    {
     "data": {
      "text/plain": [
       "spol\n",
       "spol ni določen oz. marsovec    0.103448\n",
       "ženska                          0.062630\n",
       "Name: delež, dtype: float64"
      ]
     },
     "execution_count": 108,
     "metadata": {},
     "output_type": "execute_result"
    }
   ],
   "source": [
    "delez_receptov_spola_zelenjava = pd.DataFrame(kategorije_avtorji_zelenjava.groupby('spol').size())\n",
    "delez_receptov_spola_zelenjava = delez_receptov_spola_zelenjava.rename(columns = {0:'število'})\n",
    "delez_receptov_spola_zelenjava = delez_receptov_spola_zelenjava.join(graf_avtorjev_po_spolih)\n",
    "delez_receptov_spola_zelenjava['delež'] = delez_receptov_spola_zelenjava['število'] / delez_receptov_spola_zelenjava['Spol avtorjev']\n",
    "delez_receptov_spola_zelenjava['delež']"
   ]
  },
  {
   "cell_type": "markdown",
   "metadata": {},
   "source": [
    "Preseneti nas morda podatek, da med zbranimi recepti v kategoriji **zelenjavne jedi** ni noben recept napisan s strani **moških** avtorjev. Odstotek receptov, napisanih s strani **nedoločenega spola**, pa je tudi višji kot pri prejšnjih **kategorijah**.\n",
    "- - -\n",
    "### Lahko priredimo fukcije dr. Pretnarja in poskusimo iz naslova recepta določiti njegovo kategorijo:"
   ]
  },
  {
   "cell_type": "code",
   "execution_count": 109,
   "metadata": {
    "collapsed": true
   },
   "outputs": [],
   "source": [
    "def koren_besede(beseda):\n",
    "    beseda = ''.join(znak for znak in beseda if znak.isalpha())\n",
    "    if not beseda:\n",
    "        return '$'\n",
    "    konec = len(beseda) - 1\n",
    "    if beseda[konec] in 'ds':\n",
    "        konec -= 1\n",
    "    while konec >= 0 and beseda[konec] in 'aeiou':\n",
    "        konec -= 1\n",
    "    return beseda[:konec + 1]\n",
    "\n",
    "def koreni_besed(niz):\n",
    "    return pd.Series(list({\n",
    "        koren_besede(beseda) for beseda in niz.replace('-', ' ').lower().split() if beseda\n",
    "    }))\n",
    "\n",
    "def koreni_receptov(nizi):\n",
    "    return nizi[nizi.notnull()].apply(\n",
    "        koreni_besed\n",
    "    ).stack().reset_index(level=1, drop=True)\n",
    "\n",
    "def verjetnosti_po_kategorijah(dogodki_po_receptih):\n",
    "    dogodki_po_receptih.name = 'dogodek'\n",
    "    dogodki_po_kategorijah = kategorije.join(pd.DataFrame(dogodki_po_receptih), on='recept')\n",
    "    pogostost_dogodkov = pd.crosstab(dogodki_po_kategorijah.dogodek, dogodki_po_kategorijah.kategorija)\n",
    "    pogostost_dogodkov += (10**(-5))\n",
    "    return pogostost_dogodkov / pogostost_dogodkov.sum()"
   ]
  },
  {
   "cell_type": "code",
   "execution_count": 111,
   "metadata": {
    "collapsed": false
   },
   "outputs": [],
   "source": [
    "verjetnost_kategorije = kategorije.groupby('kategorija').size() / len(recepti)\n",
    "verjetnost_korena_naslova_pri_kategoriji = verjetnosti_po_kategorijah(koreni_receptov(recepti['Naslov']))"
   ]
  },
  {
   "cell_type": "markdown",
   "metadata": {},
   "source": [
    "**Verjetnost posamezne kategorije**"
   ]
  },
  {
   "cell_type": "code",
   "execution_count": 112,
   "metadata": {
    "collapsed": false
   },
   "outputs": [
    {
     "data": {
      "text/plain": [
       "kategorija\n",
       "prikuhe            0.000833\n",
       "otroška hrana      0.001667\n",
       "solate             0.005833\n",
       "gobje jedi         0.006667\n",
       "jajčne jedi        0.007500\n",
       "napitki            0.010000\n",
       "                     ...   \n",
       "zelenjavne jedi    0.034167\n",
       "priloge            0.039167\n",
       "ozimnica           0.040000\n",
       "kruh               0.051667\n",
       "mesne jedi         0.079167\n",
       "sladice            0.572500\n",
       "dtype: float64"
      ]
     },
     "execution_count": 112,
     "metadata": {},
     "output_type": "execute_result"
    }
   ],
   "source": [
    "verjetnost_kategorije.sort_values()"
   ]
  },
  {
   "cell_type": "markdown",
   "metadata": {},
   "source": [
    "**Verjetnost posameznega korena besed v kategoriji sladice**"
   ]
  },
  {
   "cell_type": "code",
   "execution_count": 113,
   "metadata": {
    "collapsed": false
   },
   "outputs": [
    {
     "data": {
      "text/plain": [
       "dogodek\n",
       "tort        0.046632\n",
       "z           0.033679\n",
       "peciv       0.031606\n",
       "čokoladn    0.031606\n",
       "rezin       0.021243\n",
       "            0.018653\n",
       "pit         0.018653\n",
       "piškot      0.016580\n",
       "kokosov     0.016062\n",
       "in          0.012435\n",
       "Name: sladice, dtype: float64"
      ]
     },
     "execution_count": 113,
     "metadata": {},
     "output_type": "execute_result"
    }
   ],
   "source": [
    "verjetnost_korena_naslova_pri_kategoriji.sladice.sort_values(ascending=False).head(10)"
   ]
  },
  {
   "cell_type": "markdown",
   "metadata": {},
   "source": [
    "**Verjetnost posameznega korena besed v kategoriji mesne jedi**"
   ]
  },
  {
   "cell_type": "code",
   "execution_count": 114,
   "metadata": {
    "collapsed": false,
    "scrolled": true
   },
   "outputs": [
    {
     "data": {
      "text/plain": [
       "dogodek\n",
       "v           0.083084\n",
       "omak        0.074182\n",
       "zrezk       0.041542\n",
       "piščančj    0.035607\n",
       "mesn        0.032640\n",
       "govej       0.023738\n",
       "z           0.023738\n",
       "puranj      0.020771\n",
       "piščanec    0.017804\n",
       "            0.017804\n",
       "Name: mesne jedi, dtype: float64"
      ]
     },
     "execution_count": 114,
     "metadata": {},
     "output_type": "execute_result"
    }
   ],
   "source": [
    "verjetnost_korena_naslova_pri_kategoriji['mesne jedi'].sort_values(ascending=False).head(10)"
   ]
  },
  {
   "cell_type": "code",
   "execution_count": 115,
   "metadata": {
    "collapsed": true
   },
   "outputs": [],
   "source": [
    "def doloci_kategorijo_iz_naslova(naslov=''):\n",
    "    # Lahko bi se odločili, da ne bi upoštevali verjetnosti\n",
    "    # posameznih kategorij, ker so razmerja med njimi zelo velika\n",
    "    faktorji_kategorij = 1 * verjetnost_kategorije\n",
    "    faktorji_kategorij *= verjetnost_korena_naslova_pri_kategoriji[\n",
    "            verjetnost_korena_naslova_pri_kategoriji.index.isin(\n",
    "                koreni_besed(naslov)\n",
    "            )\n",
    "        ].prod()\n",
    "    faktorji_kategorij /= max(faktorji_kategorij)\n",
    "    return faktorji_kategorij.sort_values(ascending=False).head(5)"
   ]
  },
  {
   "cell_type": "code",
   "execution_count": 116,
   "metadata": {
    "collapsed": false
   },
   "outputs": [
    {
     "data": {
      "text/plain": [
       "kategorija\n",
       "sladice     1.000000e+00\n",
       "prikuhe     2.216768e-05\n",
       "eksotika    1.519827e-06\n",
       "predjedi    1.096359e-06\n",
       "priloge     5.944160e-07\n",
       "dtype: float64"
      ]
     },
     "execution_count": 116,
     "metadata": {},
     "output_type": "execute_result"
    }
   ],
   "source": [
    "doloci_kategorijo_iz_naslova(naslov='Sladka torta')"
   ]
  },
  {
   "cell_type": "code",
   "execution_count": 117,
   "metadata": {
    "collapsed": false
   },
   "outputs": [
    {
     "data": {
      "text/plain": [
       "kategorija\n",
       "enolončnice    1.000000\n",
       "mesne jedi     0.377582\n",
       "ostale jedi    0.109323\n",
       "omake          0.000001\n",
       "solate         0.000001\n",
       "dtype: float64"
      ]
     },
     "execution_count": 117,
     "metadata": {},
     "output_type": "execute_result"
    }
   ],
   "source": [
    "doloci_kategorijo_iz_naslova(naslov='Ljubljanski golaž')"
   ]
  },
  {
   "cell_type": "code",
   "execution_count": 118,
   "metadata": {
    "collapsed": false
   },
   "outputs": [
    {
     "data": {
      "text/plain": [
       "kategorija\n",
       "sirove jedi    1.000000\n",
       "gobje jedi     0.000015\n",
       "ostale jedi    0.000010\n",
       "kruh           0.000009\n",
       "enolončnice    0.000008\n",
       "dtype: float64"
      ]
     },
     "execution_count": 118,
     "metadata": {},
     "output_type": "execute_result"
    }
   ],
   "source": [
    "doloci_kategorijo_iz_naslova(naslov='Pohan sir na rukoli')"
   ]
  },
  {
   "cell_type": "code",
   "execution_count": 119,
   "metadata": {
    "collapsed": false
   },
   "outputs": [
    {
     "data": {
      "text/plain": [
       "kategorija\n",
       "kruh           1.000000e+00\n",
       "sladice        7.415479e-04\n",
       "mesne jedi     6.787641e-08\n",
       "jajčne jedi    6.738030e-10\n",
       "gobje jedi     4.492023e-10\n",
       "dtype: float64"
      ]
     },
     "execution_count": 119,
     "metadata": {},
     "output_type": "execute_result"
    }
   ],
   "source": [
    "doloci_kategorijo_iz_naslova(naslov='Zdrav kruh z manj soli')"
   ]
  },
  {
   "cell_type": "code",
   "execution_count": 120,
   "metadata": {
    "collapsed": false
   },
   "outputs": [
    {
     "data": {
      "text/plain": [
       "kategorija\n",
       "mesne jedi         1.000000e+00\n",
       "zelenjavne jedi    3.750047e-05\n",
       "morska hrana       1.527125e-05\n",
       "juhe in zakuhe     9.174813e-06\n",
       "otroška hrana      4.419480e-09\n",
       "dtype: float64"
      ]
     },
     "execution_count": 120,
     "metadata": {},
     "output_type": "execute_result"
    }
   ],
   "source": [
    "doloci_kategorijo_iz_naslova(naslov='Puranji zrezek s pire krompirjem')"
   ]
  },
  {
   "cell_type": "markdown",
   "metadata": {
    "collapsed": true
   },
   "source": [
    "Vidimo, da program pri nekaterih primerih dobro določi **kategorijo**, pri kakih tudi ne. Problem je v relativno majhni bazi podatkov (le 1200 naslovov receptov) in načinu jemanja korenov besed (deluje bolje v angleškem jeziku)."
   ]
  }
 ],
 "metadata": {
  "kernelspec": {
   "display_name": "Python 3",
   "language": "python",
   "name": "python3"
  },
  "language_info": {
   "codemirror_mode": {
    "name": "ipython",
    "version": 3
   },
   "file_extension": ".py",
   "mimetype": "text/x-python",
   "name": "python",
   "nbconvert_exporter": "python",
   "pygments_lexer": "ipython3",
   "version": "3.4.4"
  }
 },
 "nbformat": 4,
 "nbformat_minor": 1
}
