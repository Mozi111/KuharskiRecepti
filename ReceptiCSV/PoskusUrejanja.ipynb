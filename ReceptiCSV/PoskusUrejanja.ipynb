{
 "cells": [
  {
   "cell_type": "code",
   "execution_count": 43,
   "metadata": {
    "collapsed": false
   },
   "outputs": [],
   "source": [
    "import pandas as pd\n",
    "pd.options.display.max_rows = 13\n",
    "pd.options.display.max_columns = 15\n",
    "%matplotlib inline\n",
    "\n",
    "recepti = pd.read_csv('recepti.csv', index_col='id', dayfirst=True, parse_dates=[2,9])\n",
    "kategorije = pd.read_csv('kategorije.csv')\n",
    "avtorji = pd.read_csv('avtorji.csv', index_col='id')\n",
    "povezave = pd.read_csv('povezave.csv')\n",
    "\n",
    "recepti['letoobjave'] = pd.DatetimeIndex(recepti['objava']).year\n",
    "recepti['mesecobjave'] = pd.DatetimeIndex(recepti['objava']).month\n",
    "recepti['letofoto'] = pd.DatetimeIndex(recepti['zadnjafoto']).year\n",
    "# Nekatre integer stevilke so spremenjene v float zaradi nepopolnih podatkov:\n",
    "# http://pandas.pydata.org/pandas-docs/stable/gotchas.html#support-for-integer-na"
   ]
  },
  {
   "cell_type": "code",
   "execution_count": 138,
   "metadata": {
    "collapsed": false
   },
   "outputs": [
    {
     "data": {
      "text/html": [
       "<div>\n",
       "<table border=\"1\" class=\"dataframe\">\n",
       "  <thead>\n",
       "    <tr style=\"text-align: right;\">\n",
       "      <th></th>\n",
       "      <th>naslov</th>\n",
       "      <th>objava</th>\n",
       "      <th>letoobjave</th>\n",
       "      <th>zahtevnost</th>\n",
       "      <th>priprava</th>\n",
       "      <th>kolicina</th>\n",
       "      <th>stmnenj</th>\n",
       "      <th>stfoto</th>\n",
       "      <th>zadnjafoto</th>\n",
       "      <th>letofoto</th>\n",
       "      <th>zdravajed</th>\n",
       "      <th>mesecobjave</th>\n",
       "    </tr>\n",
       "    <tr>\n",
       "      <th>id</th>\n",
       "      <th></th>\n",
       "      <th></th>\n",
       "      <th></th>\n",
       "      <th></th>\n",
       "      <th></th>\n",
       "      <th></th>\n",
       "      <th></th>\n",
       "      <th></th>\n",
       "      <th></th>\n",
       "      <th></th>\n",
       "      <th></th>\n",
       "      <th></th>\n",
       "    </tr>\n",
       "  </thead>\n",
       "  <tbody>\n",
       "    <tr>\n",
       "      <th>3603</th>\n",
       "      <td>Torta Nutella</td>\n",
       "      <td>2004-04-20</td>\n",
       "      <td>2004</td>\n",
       "      <td>3</td>\n",
       "      <td>75</td>\n",
       "      <td>NaN</td>\n",
       "      <td>1079.0</td>\n",
       "      <td>477.0</td>\n",
       "      <td>2016-09-06</td>\n",
       "      <td>2016.0</td>\n",
       "      <td>NaN</td>\n",
       "      <td>4</td>\n",
       "    </tr>\n",
       "    <tr>\n",
       "      <th>12619</th>\n",
       "      <td>Čokoladno - mascarponejeve kocke</td>\n",
       "      <td>2009-05-16</td>\n",
       "      <td>2009</td>\n",
       "      <td>2</td>\n",
       "      <td>45</td>\n",
       "      <td>NaN</td>\n",
       "      <td>513.0</td>\n",
       "      <td>91.0</td>\n",
       "      <td>2016-05-18</td>\n",
       "      <td>2016.0</td>\n",
       "      <td>NaN</td>\n",
       "      <td>5</td>\n",
       "    </tr>\n",
       "    <tr>\n",
       "      <th>8100</th>\n",
       "      <td>Skutino pecivo za požrešne sosede</td>\n",
       "      <td>2006-10-12</td>\n",
       "      <td>2006</td>\n",
       "      <td>1</td>\n",
       "      <td>NaN</td>\n",
       "      <td>NaN</td>\n",
       "      <td>299.0</td>\n",
       "      <td>59.0</td>\n",
       "      <td>2016-04-17</td>\n",
       "      <td>2016.0</td>\n",
       "      <td>NaN</td>\n",
       "      <td>10</td>\n",
       "    </tr>\n",
       "    <tr>\n",
       "      <th>5814</th>\n",
       "      <td>Biskvit za torto, ki nikoli ne pade dol</td>\n",
       "      <td>2005-12-04</td>\n",
       "      <td>2005</td>\n",
       "      <td>2</td>\n",
       "      <td>45</td>\n",
       "      <td>NaN</td>\n",
       "      <td>339.0</td>\n",
       "      <td>246.0</td>\n",
       "      <td>2016-01-29</td>\n",
       "      <td>2016.0</td>\n",
       "      <td>NaN</td>\n",
       "      <td>12</td>\n",
       "    </tr>\n",
       "    <tr>\n",
       "      <th>4364</th>\n",
       "      <td>Super dobra jabolčna pita</td>\n",
       "      <td>2004-11-29</td>\n",
       "      <td>2004</td>\n",
       "      <td>1</td>\n",
       "      <td>90</td>\n",
       "      <td>NaN</td>\n",
       "      <td>171.0</td>\n",
       "      <td>62.0</td>\n",
       "      <td>2016-05-28</td>\n",
       "      <td>2016.0</td>\n",
       "      <td>NaN</td>\n",
       "      <td>11</td>\n",
       "    </tr>\n",
       "    <tr>\n",
       "      <th>9431</th>\n",
       "      <td>Moji mehki medenjaki</td>\n",
       "      <td>2006-12-22</td>\n",
       "      <td>2006</td>\n",
       "      <td>2</td>\n",
       "      <td>NaN</td>\n",
       "      <td>NaN</td>\n",
       "      <td>329.0</td>\n",
       "      <td>141.0</td>\n",
       "      <td>2015-12-28</td>\n",
       "      <td>2015.0</td>\n",
       "      <td>NaN</td>\n",
       "      <td>12</td>\n",
       "    </tr>\n",
       "    <tr>\n",
       "      <th>...</th>\n",
       "      <td>...</td>\n",
       "      <td>...</td>\n",
       "      <td>...</td>\n",
       "      <td>...</td>\n",
       "      <td>...</td>\n",
       "      <td>...</td>\n",
       "      <td>...</td>\n",
       "      <td>...</td>\n",
       "      <td>...</td>\n",
       "      <td>...</td>\n",
       "      <td>...</td>\n",
       "      <td>...</td>\n",
       "    </tr>\n",
       "    <tr>\n",
       "      <th>12056</th>\n",
       "      <td>Lanina torta</td>\n",
       "      <td>2008-12-22</td>\n",
       "      <td>2008</td>\n",
       "      <td>2</td>\n",
       "      <td>180</td>\n",
       "      <td>NaN</td>\n",
       "      <td>45.0</td>\n",
       "      <td>26.0</td>\n",
       "      <td>2016-09-09</td>\n",
       "      <td>2016.0</td>\n",
       "      <td>NaN</td>\n",
       "      <td>12</td>\n",
       "    </tr>\n",
       "    <tr>\n",
       "      <th>342</th>\n",
       "      <td>Kokosove rezine</td>\n",
       "      <td>1999-10-30</td>\n",
       "      <td>1999</td>\n",
       "      <td>1</td>\n",
       "      <td>NaN</td>\n",
       "      <td>NaN</td>\n",
       "      <td>5.0</td>\n",
       "      <td>2.0</td>\n",
       "      <td>2011-08-08</td>\n",
       "      <td>2011.0</td>\n",
       "      <td>NaN</td>\n",
       "      <td>10</td>\n",
       "    </tr>\n",
       "    <tr>\n",
       "      <th>14632</th>\n",
       "      <td>Novoletna torta</td>\n",
       "      <td>2011-01-08</td>\n",
       "      <td>2011</td>\n",
       "      <td>2</td>\n",
       "      <td>30</td>\n",
       "      <td>12</td>\n",
       "      <td>14.0</td>\n",
       "      <td>6.0</td>\n",
       "      <td>2013-10-13</td>\n",
       "      <td>2013.0</td>\n",
       "      <td>NaN</td>\n",
       "      <td>1</td>\n",
       "    </tr>\n",
       "    <tr>\n",
       "      <th>6336</th>\n",
       "      <td>Mini princeske</td>\n",
       "      <td>2006-03-30</td>\n",
       "      <td>2006</td>\n",
       "      <td>2</td>\n",
       "      <td>NaN</td>\n",
       "      <td>pibližno 60 kosov</td>\n",
       "      <td>27.0</td>\n",
       "      <td>5.0</td>\n",
       "      <td>2009-12-28</td>\n",
       "      <td>2009.0</td>\n",
       "      <td>NaN</td>\n",
       "      <td>3</td>\n",
       "    </tr>\n",
       "    <tr>\n",
       "      <th>1423</th>\n",
       "      <td>Čičerika iz lonca</td>\n",
       "      <td>2001-11-06</td>\n",
       "      <td>2001</td>\n",
       "      <td>1</td>\n",
       "      <td>NaN</td>\n",
       "      <td>2</td>\n",
       "      <td>19.0</td>\n",
       "      <td>1.0</td>\n",
       "      <td>2009-11-13</td>\n",
       "      <td>2009.0</td>\n",
       "      <td>NaN</td>\n",
       "      <td>11</td>\n",
       "    </tr>\n",
       "    <tr>\n",
       "      <th>18421</th>\n",
       "      <td>Pravi francoski čokoladni mousse</td>\n",
       "      <td>2013-04-25</td>\n",
       "      <td>2013</td>\n",
       "      <td>2</td>\n",
       "      <td>30</td>\n",
       "      <td>6</td>\n",
       "      <td>23.0</td>\n",
       "      <td>13.0</td>\n",
       "      <td>2014-11-14</td>\n",
       "      <td>2014.0</td>\n",
       "      <td>NaN</td>\n",
       "      <td>4</td>\n",
       "    </tr>\n",
       "  </tbody>\n",
       "</table>\n",
       "<p>1200 rows × 12 columns</p>\n",
       "</div>"
      ],
      "text/plain": [
       "                                        naslov     objava  letoobjave  \\\n",
       "id                                                                      \n",
       "3603                             Torta Nutella 2004-04-20        2004   \n",
       "12619         Čokoladno - mascarponejeve kocke 2009-05-16        2009   \n",
       "8100         Skutino pecivo za požrešne sosede 2006-10-12        2006   \n",
       "5814   Biskvit za torto, ki nikoli ne pade dol 2005-12-04        2005   \n",
       "4364                 Super dobra jabolčna pita 2004-11-29        2004   \n",
       "9431                      Moji mehki medenjaki 2006-12-22        2006   \n",
       "...                                        ...        ...         ...   \n",
       "12056                             Lanina torta 2008-12-22        2008   \n",
       "342                            Kokosove rezine 1999-10-30        1999   \n",
       "14632                          Novoletna torta 2011-01-08        2011   \n",
       "6336                            Mini princeske 2006-03-30        2006   \n",
       "1423                         Čičerika iz lonca 2001-11-06        2001   \n",
       "18421         Pravi francoski čokoladni mousse 2013-04-25        2013   \n",
       "\n",
       "       zahtevnost priprava           kolicina  stmnenj  stfoto zadnjafoto  \\\n",
       "id                                                                          \n",
       "3603            3       75                NaN   1079.0   477.0 2016-09-06   \n",
       "12619           2       45                NaN    513.0    91.0 2016-05-18   \n",
       "8100            1      NaN                NaN    299.0    59.0 2016-04-17   \n",
       "5814            2       45                NaN    339.0   246.0 2016-01-29   \n",
       "4364            1       90                NaN    171.0    62.0 2016-05-28   \n",
       "9431            2      NaN                NaN    329.0   141.0 2015-12-28   \n",
       "...           ...      ...                ...      ...     ...        ...   \n",
       "12056           2      180                NaN     45.0    26.0 2016-09-09   \n",
       "342             1      NaN                NaN      5.0     2.0 2011-08-08   \n",
       "14632           2       30                 12     14.0     6.0 2013-10-13   \n",
       "6336            2      NaN  pibližno 60 kosov     27.0     5.0 2009-12-28   \n",
       "1423            1      NaN                  2     19.0     1.0 2009-11-13   \n",
       "18421           2       30                  6     23.0    13.0 2014-11-14   \n",
       "\n",
       "       letofoto zdravajed  mesecobjave  \n",
       "id                                      \n",
       "3603     2016.0       NaN            4  \n",
       "12619    2016.0       NaN            5  \n",
       "8100     2016.0       NaN           10  \n",
       "5814     2016.0       NaN           12  \n",
       "4364     2016.0       NaN           11  \n",
       "9431     2015.0       NaN           12  \n",
       "...         ...       ...          ...  \n",
       "12056    2016.0       NaN           12  \n",
       "342      2011.0       NaN           10  \n",
       "14632    2013.0       NaN            1  \n",
       "6336     2009.0       NaN            3  \n",
       "1423     2009.0       NaN           11  \n",
       "18421    2014.0       NaN            4  \n",
       "\n",
       "[1200 rows x 12 columns]"
      ]
     },
     "execution_count": 138,
     "metadata": {},
     "output_type": "execute_result"
    }
   ],
   "source": [
    "recepti"
   ]
  },
  {
   "cell_type": "code",
   "execution_count": 7,
   "metadata": {
    "collapsed": false
   },
   "outputs": [
    {
     "data": {
      "text/html": [
       "<div>\n",
       "<table border=\"1\" class=\"dataframe\">\n",
       "  <thead>\n",
       "    <tr style=\"text-align: right;\">\n",
       "      <th></th>\n",
       "      <th>recept</th>\n",
       "      <th>avtor</th>\n",
       "      <th>kategorija</th>\n",
       "      <th>podkategorija</th>\n",
       "    </tr>\n",
       "  </thead>\n",
       "  <tbody>\n",
       "    <tr>\n",
       "      <th>0</th>\n",
       "      <td>3603</td>\n",
       "      <td>1bdv35xaykwwsb40</td>\n",
       "      <td>sladice</td>\n",
       "      <td>torte</td>\n",
       "    </tr>\n",
       "    <tr>\n",
       "      <th>1</th>\n",
       "      <td>12619</td>\n",
       "      <td>k5k7au0hrsfu2zqd</td>\n",
       "      <td>sladice</td>\n",
       "      <td>pecivo</td>\n",
       "    </tr>\n",
       "    <tr>\n",
       "      <th>2</th>\n",
       "      <td>8100</td>\n",
       "      <td>1bdv35xaykwwsb40</td>\n",
       "      <td>sladice</td>\n",
       "      <td>pecivo</td>\n",
       "    </tr>\n",
       "    <tr>\n",
       "      <th>3</th>\n",
       "      <td>5814</td>\n",
       "      <td>jasnalekan</td>\n",
       "      <td>sladice</td>\n",
       "      <td>ostalo</td>\n",
       "    </tr>\n",
       "    <tr>\n",
       "      <th>4</th>\n",
       "      <td>4364</td>\n",
       "      <td>ucs4w5y9tqcoxg5o</td>\n",
       "      <td>sladice</td>\n",
       "      <td>pecivo</td>\n",
       "    </tr>\n",
       "    <tr>\n",
       "      <th>5</th>\n",
       "      <td>9431</td>\n",
       "      <td>kyara</td>\n",
       "      <td>sladice</td>\n",
       "      <td>piškoti</td>\n",
       "    </tr>\n",
       "    <tr>\n",
       "      <th>...</th>\n",
       "      <td>...</td>\n",
       "      <td>...</td>\n",
       "      <td>...</td>\n",
       "      <td>...</td>\n",
       "    </tr>\n",
       "    <tr>\n",
       "      <th>1194</th>\n",
       "      <td>12056</td>\n",
       "      <td>bonanza</td>\n",
       "      <td>sladice</td>\n",
       "      <td>torte</td>\n",
       "    </tr>\n",
       "    <tr>\n",
       "      <th>1195</th>\n",
       "      <td>342</td>\n",
       "      <td>spela</td>\n",
       "      <td>sladice</td>\n",
       "      <td>pecivo</td>\n",
       "    </tr>\n",
       "    <tr>\n",
       "      <th>1196</th>\n",
       "      <td>14632</td>\n",
       "      <td>marec</td>\n",
       "      <td>sladice</td>\n",
       "      <td>torte</td>\n",
       "    </tr>\n",
       "    <tr>\n",
       "      <th>1197</th>\n",
       "      <td>6336</td>\n",
       "      <td>anagerzina</td>\n",
       "      <td>sladice</td>\n",
       "      <td>ostalo</td>\n",
       "    </tr>\n",
       "    <tr>\n",
       "      <th>1198</th>\n",
       "      <td>1423</td>\n",
       "      <td>tkangler</td>\n",
       "      <td>enolončnice</td>\n",
       "      <td>NaN</td>\n",
       "    </tr>\n",
       "    <tr>\n",
       "      <th>1199</th>\n",
       "      <td>18421</td>\n",
       "      <td>katka285</td>\n",
       "      <td>sladice</td>\n",
       "      <td>kreme za torte in peciva</td>\n",
       "    </tr>\n",
       "  </tbody>\n",
       "</table>\n",
       "<p>1200 rows × 4 columns</p>\n",
       "</div>"
      ],
      "text/plain": [
       "      recept             avtor   kategorija             podkategorija\n",
       "0       3603  1bdv35xaykwwsb40      sladice                     torte\n",
       "1      12619  k5k7au0hrsfu2zqd      sladice                    pecivo\n",
       "2       8100  1bdv35xaykwwsb40      sladice                    pecivo\n",
       "3       5814        jasnalekan      sladice                    ostalo\n",
       "4       4364  ucs4w5y9tqcoxg5o      sladice                    pecivo\n",
       "5       9431             kyara      sladice                   piškoti\n",
       "...      ...               ...          ...                       ...\n",
       "1194   12056           bonanza      sladice                     torte\n",
       "1195     342             spela      sladice                    pecivo\n",
       "1196   14632             marec      sladice                     torte\n",
       "1197    6336        anagerzina      sladice                    ostalo\n",
       "1198    1423          tkangler  enolončnice                       NaN\n",
       "1199   18421          katka285      sladice  kreme za torte in peciva\n",
       "\n",
       "[1200 rows x 4 columns]"
      ]
     },
     "execution_count": 7,
     "metadata": {},
     "output_type": "execute_result"
    }
   ],
   "source": [
    "pd.merge(povezave, kategorije)"
   ]
  },
  {
   "cell_type": "code",
   "execution_count": 9,
   "metadata": {
    "collapsed": false
   },
   "outputs": [
    {
     "data": {
      "text/plain": [
       "kategorija\n",
       "prikuhe              1\n",
       "otroška hrana        2\n",
       "solate               7\n",
       "gobje jedi           8\n",
       "jajčne jedi          9\n",
       "napitki             12\n",
       "                  ... \n",
       "zelenjavne jedi     41\n",
       "priloge             47\n",
       "ozimnica            48\n",
       "kruh                62\n",
       "mesne jedi          95\n",
       "sladice            687\n",
       "dtype: int64"
      ]
     },
     "execution_count": 9,
     "metadata": {},
     "output_type": "execute_result"
    }
   ],
   "source": [
    "recepti_po_kategorijah = kategorije.groupby('kategorija')\n",
    "recepti_po_kategorijah.size().sort_values()"
   ]
  },
  {
   "cell_type": "code",
   "execution_count": 10,
   "metadata": {
    "collapsed": false
   },
   "outputs": [
    {
     "data": {
      "text/plain": [
       "spol\n",
       "moški                            49\n",
       "spol ni določen oz. marsovec     58\n",
       "ženska                          479\n",
       "dtype: int64"
      ]
     },
     "execution_count": 10,
     "metadata": {},
     "output_type": "execute_result"
    }
   ],
   "source": [
    "avtorji_po_spolih = avtorji.groupby('spol')\n",
    "avtorji_po_spolih.size().sort_values()"
   ]
  },
  {
   "cell_type": "code",
   "execution_count": 11,
   "metadata": {
    "collapsed": false
   },
   "outputs": [
    {
     "data": {
      "text/plain": [
       "priprava\n",
       "150        4\n",
       "5          8\n",
       "240       10\n",
       "4+ ur     28\n",
       "15        31\n",
       "180       41\n",
       "75        61\n",
       "90        90\n",
       "30        91\n",
       "120       94\n",
       "45       118\n",
       "60       142\n",
       "dtype: int64"
      ]
     },
     "execution_count": 11,
     "metadata": {},
     "output_type": "execute_result"
    }
   ],
   "source": [
    "recepti_po_casu = recepti.groupby('priprava')\n",
    "recepti_po_casu.size().sort_values()"
   ]
  },
  {
   "cell_type": "code",
   "execution_count": 41,
   "metadata": {
    "collapsed": false
   },
   "outputs": [
    {
     "data": {
      "text/plain": [
       "zahtevnost\n",
       "1    475\n",
       "2    406\n",
       "3    285\n",
       "4     31\n",
       "5      3\n",
       "dtype: int64"
      ]
     },
     "execution_count": 41,
     "metadata": {},
     "output_type": "execute_result"
    }
   ],
   "source": [
    "recepti_po_tezavnosti = recepti.groupby('zahtevnost')\n",
    "recepti_po_tezavnosti.size()"
   ]
  },
  {
   "cell_type": "code",
   "execution_count": 12,
   "metadata": {
    "collapsed": false
   },
   "outputs": [
    {
     "data": {
      "text/plain": [
       "kolicina\n",
       "                        1\n",
       "en klasičen pekač       1\n",
       "dva rebrasta modela     1\n",
       "dva pekača              1\n",
       "do 30 piškotov          1\n",
       "cirka 20 komadov        1\n",
       "                       ..\n",
       "2 osebi                10\n",
       "za 2 osebi             15\n",
       "4                      15\n",
       "12 kosov               18\n",
       "za 4 osebe             31\n",
       "4 osebe                36\n",
       "dtype: int64"
      ]
     },
     "execution_count": 12,
     "metadata": {},
     "output_type": "execute_result"
    }
   ],
   "source": [
    "recepti_po_kolicinah = recepti.groupby('kolicina')\n",
    "recepti_po_kolicinah.size().sort_values()"
   ]
  },
  {
   "cell_type": "markdown",
   "metadata": {},
   "source": [
    "Poglejmo, kateri avtor je objavil največ sladic"
   ]
  },
  {
   "cell_type": "code",
   "execution_count": 13,
   "metadata": {
    "collapsed": false
   },
   "outputs": [
    {
     "data": {
      "text/plain": [
       "avtor\n",
       "09vby3lukxhbwrjl     1\n",
       "ngy3jg6ymk15yw6i     1\n",
       "neja2                1\n",
       "navzikaa             1\n",
       "natkas               1\n",
       "nana1                1\n",
       "                    ..\n",
       "vanja_v_zda         11\n",
       "bannanna            12\n",
       "riko                13\n",
       "mamamia             13\n",
       "marinka             14\n",
       "jade                18\n",
       "dtype: int64"
      ]
     },
     "execution_count": 13,
     "metadata": {},
     "output_type": "execute_result"
    }
   ],
   "source": [
    "kategorije_avtorji = pd.merge(povezave, kategorije)\n",
    "kategorije_avtorji[(kategorije_avtorji['kategorija'] == 'sladice')].groupby(\n",
    "    'avtor').size().sort_values()"
   ]
  },
  {
   "cell_type": "code",
   "execution_count": 26,
   "metadata": {
    "collapsed": false
   },
   "outputs": [
    {
     "data": {
      "text/plain": [
       "avtor      jade\n",
       "spol     ženska\n",
       "Name: jade, dtype: object"
      ]
     },
     "execution_count": 26,
     "metadata": {},
     "output_type": "execute_result"
    }
   ],
   "source": [
    "avtorji.loc[\"jade\"]"
   ]
  },
  {
   "cell_type": "code",
   "execution_count": 28,
   "metadata": {
    "collapsed": false
   },
   "outputs": [
    {
     "data": {
      "text/plain": [
       "letoobjave  kategorija    \n",
       "1998        gobje jedi        1\n",
       "            juhe in zakuhe    1\n",
       "            kruh              1\n",
       "            morska hrana      1\n",
       "            priloge           2\n",
       "            sladice           3\n",
       "                             ..\n",
       "2014        kruh              2\n",
       "            mesne jedi        1\n",
       "            sladice           6\n",
       "2015        kruh              1\n",
       "            mesne jedi        1\n",
       "            sladice           2\n",
       "dtype: int64"
      ]
     },
     "execution_count": 28,
     "metadata": {},
     "output_type": "execute_result"
    }
   ],
   "source": [
    "zastopanost_kategorij = kategorije.join(recepti, on='recept').groupby(\n",
    "['letoobjave', 'kategorija']).size()\n",
    "zastopanost_kategorij"
   ]
  },
  {
   "cell_type": "code",
   "execution_count": 32,
   "metadata": {
    "collapsed": false
   },
   "outputs": [
    {
     "data": {
      "text/plain": [
       "<matplotlib.axes._subplots.AxesSubplot at 0x9526240>"
      ]
     },
     "execution_count": 32,
     "metadata": {},
     "output_type": "execute_result"
    },
    {
     "data": {
      "image/png": "[encoded data removed]",
      "text/plain": [
       "<matplotlib.figure.Figure at 0x81945c0>"
      ]
     },
     "metadata": {},
     "output_type": "display_data"
    }
   ],
   "source": [
    "matrika_zastopanosti = zastopanost_kategorij.unstack()\n",
    "matrika_popularnosti = matrika_zastopanosti.apply(lambda st: st / st.sum(), axis=1)\n",
    "matrika_popularnosti.plot(kind='area')"
   ]
  },
  {
   "cell_type": "markdown",
   "metadata": {},
   "source": [
    "Lahko pripredimo fukcije g. Pretnarja in poskusimo iz naslova recepta določiti njegovo kategorijo:"
   ]
  },
  {
   "cell_type": "code",
   "execution_count": 383,
   "metadata": {
    "collapsed": true
   },
   "outputs": [],
   "source": [
    "def koren_besede(beseda):\n",
    "    beseda = ''.join(znak for znak in beseda if znak.isalpha())\n",
    "    if not beseda:\n",
    "        return '$'\n",
    "    konec = len(beseda) - 1\n",
    "    if beseda[konec] in 'ds':\n",
    "        konec -= 1\n",
    "    while konec >= 0 and beseda[konec] in 'aeiou':\n",
    "        konec -= 1\n",
    "    return beseda[:konec + 1]\n",
    "\n",
    "def koreni_besed(niz):\n",
    "    return pd.Series(list({\n",
    "        koren_besede(beseda) for beseda in niz.replace('-', ' ').lower().split() if beseda\n",
    "    }))\n",
    "\n",
    "def koreni_receptov(nizi):\n",
    "    return nizi[nizi.notnull()].apply(\n",
    "        koreni_besed\n",
    "    ).stack().reset_index(level=1, drop=True)\n",
    "\n",
    "def verjetnosti_po_kategorijah(dogodki_po_receptih):\n",
    "    dogodki_po_receptih.name = 'dogodek'\n",
    "    dogodki_po_kategorijah = kategorije.join(pd.DataFrame(dogodki_po_receptih), on='recept')\n",
    "    pogostost_dogodkov = pd.crosstab(dogodki_po_kategorijah.dogodek, dogodki_po_kategorijah.kategorija)\n",
    "    pogostost_dogodkov += 1\n",
    "    return pogostost_dogodkov / pogostost_dogodkov.sum()"
   ]
  },
  {
   "cell_type": "code",
   "execution_count": 384,
   "metadata": {
    "collapsed": false
   },
   "outputs": [],
   "source": [
    "verjetnost_kategorije = kategorije.groupby('kategorija').size() / len(recepti)\n",
    "verjetnost_korena_naslova_pri_kategoriji = verjetnosti_po_kategorijah(koreni_receptov(recepti.naslov))"
   ]
  },
  {
   "cell_type": "code",
   "execution_count": 388,
   "metadata": {
    "collapsed": false
   },
   "outputs": [
    {
     "data": {
      "text/plain": [
       "kategorija\n",
       "prikuhe            0.000833\n",
       "otroška hrana      0.001667\n",
       "solate             0.005833\n",
       "gobje jedi         0.006667\n",
       "jajčne jedi        0.007500\n",
       "napitki            0.010000\n",
       "                     ...   \n",
       "zelenjavne jedi    0.034167\n",
       "priloge            0.039167\n",
       "ozimnica           0.040000\n",
       "kruh               0.051667\n",
       "mesne jedi         0.079167\n",
       "sladice            0.572500\n",
       "dtype: float64"
      ]
     },
     "execution_count": 388,
     "metadata": {},
     "output_type": "execute_result"
    }
   ],
   "source": [
    "verjetnost_kategorije.sort_values()"
   ]
  },
  {
   "cell_type": "code",
   "execution_count": 387,
   "metadata": {
    "collapsed": false
   },
   "outputs": [
    {
     "data": {
      "text/plain": [
       "dogodek\n",
       "tort        0.031250\n",
       "z           0.022665\n",
       "peciv       0.021291\n",
       "čokoladn    0.021291\n",
       "rezin       0.014423\n",
       "            0.012706\n",
       "pit         0.012706\n",
       "piškot      0.011332\n",
       "kokosov     0.010989\n",
       "in          0.008585\n",
       "Name: sladice, dtype: float64"
      ]
     },
     "execution_count": 387,
     "metadata": {},
     "output_type": "execute_result"
    }
   ],
   "source": [
    "verjetnost_korena_naslova_pri_kategoriji.sladice.sort_values(ascending=False).head(10)"
   ]
  },
  {
   "cell_type": "code",
   "execution_count": 304,
   "metadata": {
    "collapsed": false
   },
   "outputs": [
    {
     "data": {
      "text/plain": [
       "dogodek\n",
       "v           0.021986\n",
       "omak        0.019712\n",
       "zrezk       0.011372\n",
       "piščančj    0.009856\n",
       "mesn        0.009098\n",
       "govej       0.006823\n",
       "z           0.006823\n",
       "puranj      0.006065\n",
       "piščanec    0.005307\n",
       "            0.005307\n",
       "Name: mesne jedi, dtype: float64"
      ]
     },
     "execution_count": 304,
     "metadata": {},
     "output_type": "execute_result"
    }
   ],
   "source": [
    "verjetnost_korena_naslova_pri_kategoriji['mesne jedi'].sort_values(ascending=False).head(10)"
   ]
  },
  {
   "cell_type": "code",
   "execution_count": 389,
   "metadata": {
    "collapsed": true
   },
   "outputs": [],
   "source": [
    "def doloci_kategorijo_iz_naslova(naslov=''):\n",
    "    #Ne bomo upoštevali verjetnosti posameznih kategorij,\n",
    "    #ker so razmerja prevelika\n",
    "    faktorji_kategorij = 1\n",
    "    faktorji_kategorij *= verjetnost_korena_naslova_pri_kategoriji[\n",
    "            verjetnost_korena_naslova_pri_kategoriji.index.isin(\n",
    "                koreni_besed(naslov)\n",
    "            )\n",
    "        ].prod()\n",
    "    faktorji_kategorij /= max(faktorji_kategorij)\n",
    "    return faktorji_kategorij.sort_values(ascending=False).head(5)"
   ]
  },
  {
   "cell_type": "code",
   "execution_count": 378,
   "metadata": {
    "collapsed": false
   },
   "outputs": [
    {
     "data": {
      "text/plain": [
       "kategorija\n",
       "sladice     1.000000\n",
       "prikuhe     0.048022\n",
       "eksotika    0.044347\n",
       "predjedi    0.042180\n",
       "priloge     0.037952\n",
       "dtype: float64"
      ]
     },
     "execution_count": 378,
     "metadata": {},
     "output_type": "execute_result"
    }
   ],
   "source": [
    "doloci_kategorijo_iz_naslova(naslov='Sladka torta')"
   ]
  },
  {
   "cell_type": "code",
   "execution_count": 369,
   "metadata": {
    "collapsed": false
   },
   "outputs": [
    {
     "data": {
      "text/plain": [
       "kategorija\n",
       "mesne jedi         1.000000\n",
       "zelenjavne jedi    0.114557\n",
       "testenine          0.037194\n",
       "ozimnica           0.016971\n",
       "omake              0.016370\n",
       "dtype: float64"
      ]
     },
     "execution_count": 369,
     "metadata": {},
     "output_type": "execute_result"
    }
   ],
   "source": [
    "doloci_kategorijo_iz_naslova(naslov='Špinačna lazanja s paradižnikovo omako')"
   ]
  },
  {
   "cell_type": "code",
   "execution_count": 319,
   "metadata": {
    "collapsed": false
   },
   "outputs": [
    {
     "data": {
      "text/plain": [
       "kategorija\n",
       "mesne jedi         1.000000\n",
       "zelenjavne jedi    0.189044\n",
       "ozimnica           0.087036\n",
       "jajčne jedi        0.086183\n",
       "kruh               0.039352\n",
       "dtype: float64"
      ]
     },
     "execution_count": 319,
     "metadata": {},
     "output_type": "execute_result"
    }
   ],
   "source": [
    "doloci_kategorijo_iz_naslova(naslov='Polnjene paprike z govejim mesom')"
   ]
  },
  {
   "cell_type": "code",
   "execution_count": 343,
   "metadata": {
    "collapsed": false
   },
   "outputs": [
    {
     "data": {
      "text/plain": [
       "kategorija\n",
       "kruh            1.000000\n",
       "mesne jedi      0.030802\n",
       "sladice         0.028524\n",
       "morska hrana    0.025277\n",
       "jajčne jedi     0.024887\n",
       "dtype: float64"
      ]
     },
     "execution_count": 343,
     "metadata": {},
     "output_type": "execute_result"
    }
   ],
   "source": [
    "doloci_kategorijo_iz_naslova(naslov='Zdrav kruh z manj soli')"
   ]
  },
  {
   "cell_type": "code",
   "execution_count": 345,
   "metadata": {
    "collapsed": false
   },
   "outputs": [
    {
     "data": {
      "text/plain": [
       "kategorija\n",
       "sladice          1.000000\n",
       "ozimnica         0.103345\n",
       "prikuhe          0.066212\n",
       "otroška hrana    0.065810\n",
       "solate           0.064240\n",
       "dtype: float64"
      ]
     },
     "execution_count": 345,
     "metadata": {},
     "output_type": "execute_result"
    }
   ],
   "source": [
    "doloci_kategorijo_iz_naslova(naslov='Božični piškoti')"
   ]
  },
  {
   "cell_type": "code",
   "execution_count": null,
   "metadata": {
    "collapsed": true
   },
   "outputs": [],
   "source": []
  }
 ],
 "metadata": {
  "kernelspec": {
   "display_name": "Python 3",
   "language": "python",
   "name": "python3"
  },
  "language_info": {
   "codemirror_mode": {
    "name": "ipython",
    "version": 3
   },
   "file_extension": ".py",
   "mimetype": "text/x-python",
   "name": "python",
   "nbconvert_exporter": "python",
   "pygments_lexer": "ipython3",
   "version": "3.4.4"
  }
 },
 "nbformat": 4,
 "nbformat_minor": 1
}
