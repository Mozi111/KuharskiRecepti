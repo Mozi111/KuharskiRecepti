{
 "cells": [
  {
   "cell_type": "markdown",
   "metadata": {},
   "source": [
    "# Kuharski recepti\n",
    "\n",
    "Za projektno nalogo sem s strani [kulinarika.net](https://www.kulinarika.net) zbral prvih 1200 receptov po popularnosti.\n",
    "\n",
    "Podatki so ločeni v štiri csv datoteke:\n",
    "* recepti.csv\n",
    "* kategorije.csv\n",
    "* avtorji.csv\n",
    "* povezave.csv\n",
    "\n",
    "## Zbrani podatki\n",
    "Recepti vsebujejo:\n",
    "* id recepta\n",
    "* naslov\n",
    "* datum objave\n",
    "* zahtevnost (1 = najlažje, 5 = najtežje)\n",
    "* čas priprave\n",
    "* kolicino hrane\n",
    "* število mnenj\n",
    "* število fotografij\n",
    "* datum zadnje fotografije\n",
    "* ali je jed bolj zdrava\n",
    "\n",
    "Kategorije vsebujejo:\n",
    "* id recepta\n",
    "* kategorija\n",
    "* podkategorija\n",
    "\n",
    "Avtorji vsebujejo:\n",
    "* id avtorja\n",
    "* ime avtorja\n",
    "* spol avtorja\n",
    "\n",
    "Povezave vsebujejo:\n",
    "* id recepta\n",
    "* id avtorja\n",
    "\n",
    "## Predvidena analiza\n",
    "Analiziral bom kategorije (najpopularnejše, najbolj zastopane, najlažje, ...) ter recepte glede na spol avtorjev.\n",
    "- - - - - \n",
    "Vstavimo podatke in iz datumov dodajmo še stolpce z **letom objave**, **mesecem objave** in **letom zadnje fotografije**, ker nam bodo te podatki prisli prav."
   ]
  },
  {
   "cell_type": "code",
   "execution_count": 8,
   "metadata": {
    "collapsed": false
   },
   "outputs": [],
   "source": [
    "import pandas as pd\n",
    "import numpy as np\n",
    "pd.options.display.max_rows = 12\n",
    "%matplotlib inline\n",
    "\n",
    "recepti = pd.read_csv('ReceptiCSV/recepti.csv', index_col='id', dayfirst=True, parse_dates=[2,9])\n",
    "kategorije = pd.read_csv('ReceptiCSV/kategorije.csv')\n",
    "avtorji = pd.read_csv('ReceptiCSV/avtorji.csv', index_col='id')\n",
    "povezave = pd.read_csv('ReceptiCSV/povezave.csv')\n",
    "\n",
    "recepti['letoobjave'] = pd.DatetimeIndex(recepti['objava']).year\n",
    "recepti['mesecobjave'] = pd.DatetimeIndex(recepti['objava']).month\n",
    "recepti['letofoto'] = pd.DatetimeIndex(recepti['zadnjafoto']).year"
   ]
  },
  {
   "cell_type": "markdown",
   "metadata": {},
   "source": [
    "Vidimo, da pri nekaterih receptih niso izpoljnena vsa polja. [Nekatrim celim številom so zato dodane decimalne vejice.](http://pandas.pydata.org/pandas-docs/stable/gotchas.html#support-for-integer-na)\n",
    "- - - \n",
    "Oglejmo si torej našo glavno tabelo."
   ]
  },
  {
   "cell_type": "code",
   "execution_count": 6,
   "metadata": {
    "collapsed": false,
    "scrolled": true
   },
   "outputs": [
    {
     "data": {
      "text/html": [
       "<div>\n",
       "<table border=\"1\" class=\"dataframe\">\n",
       "  <thead>\n",
       "    <tr style=\"text-align: right;\">\n",
       "      <th></th>\n",
       "      <th>naslov</th>\n",
       "      <th>objava</th>\n",
       "      <th>letoobjave</th>\n",
       "      <th>zahtevnost</th>\n",
       "      <th>priprava</th>\n",
       "      <th>kolicina</th>\n",
       "      <th>stmnenj</th>\n",
       "      <th>stfoto</th>\n",
       "      <th>zadnjafoto</th>\n",
       "      <th>letofoto</th>\n",
       "      <th>zdravajed</th>\n",
       "      <th>mesecobjave</th>\n",
       "    </tr>\n",
       "    <tr>\n",
       "      <th>id</th>\n",
       "      <th></th>\n",
       "      <th></th>\n",
       "      <th></th>\n",
       "      <th></th>\n",
       "      <th></th>\n",
       "      <th></th>\n",
       "      <th></th>\n",
       "      <th></th>\n",
       "      <th></th>\n",
       "      <th></th>\n",
       "      <th></th>\n",
       "      <th></th>\n",
       "    </tr>\n",
       "  </thead>\n",
       "  <tbody>\n",
       "    <tr>\n",
       "      <th>3603</th>\n",
       "      <td>Torta Nutella</td>\n",
       "      <td>2004-04-20</td>\n",
       "      <td>2004</td>\n",
       "      <td>3</td>\n",
       "      <td>75</td>\n",
       "      <td>NaN</td>\n",
       "      <td>1079.0</td>\n",
       "      <td>477.0</td>\n",
       "      <td>2016-09-06</td>\n",
       "      <td>2016.0</td>\n",
       "      <td>NaN</td>\n",
       "      <td>4</td>\n",
       "    </tr>\n",
       "    <tr>\n",
       "      <th>12619</th>\n",
       "      <td>Čokoladno - mascarponejeve kocke</td>\n",
       "      <td>2009-05-16</td>\n",
       "      <td>2009</td>\n",
       "      <td>2</td>\n",
       "      <td>45</td>\n",
       "      <td>NaN</td>\n",
       "      <td>513.0</td>\n",
       "      <td>91.0</td>\n",
       "      <td>2016-05-18</td>\n",
       "      <td>2016.0</td>\n",
       "      <td>NaN</td>\n",
       "      <td>5</td>\n",
       "    </tr>\n",
       "    <tr>\n",
       "      <th>8100</th>\n",
       "      <td>Skutino pecivo za požrešne sosede</td>\n",
       "      <td>2006-10-12</td>\n",
       "      <td>2006</td>\n",
       "      <td>1</td>\n",
       "      <td>NaN</td>\n",
       "      <td>NaN</td>\n",
       "      <td>299.0</td>\n",
       "      <td>59.0</td>\n",
       "      <td>2016-04-17</td>\n",
       "      <td>2016.0</td>\n",
       "      <td>NaN</td>\n",
       "      <td>10</td>\n",
       "    </tr>\n",
       "    <tr>\n",
       "      <th>5814</th>\n",
       "      <td>Biskvit za torto, ki nikoli ne pade dol</td>\n",
       "      <td>2005-12-04</td>\n",
       "      <td>2005</td>\n",
       "      <td>2</td>\n",
       "      <td>45</td>\n",
       "      <td>NaN</td>\n",
       "      <td>339.0</td>\n",
       "      <td>246.0</td>\n",
       "      <td>2016-01-29</td>\n",
       "      <td>2016.0</td>\n",
       "      <td>NaN</td>\n",
       "      <td>12</td>\n",
       "    </tr>\n",
       "    <tr>\n",
       "      <th>4364</th>\n",
       "      <td>Super dobra jabolčna pita</td>\n",
       "      <td>2004-11-29</td>\n",
       "      <td>2004</td>\n",
       "      <td>1</td>\n",
       "      <td>90</td>\n",
       "      <td>NaN</td>\n",
       "      <td>171.0</td>\n",
       "      <td>62.0</td>\n",
       "      <td>2016-05-28</td>\n",
       "      <td>2016.0</td>\n",
       "      <td>NaN</td>\n",
       "      <td>11</td>\n",
       "    </tr>\n",
       "    <tr>\n",
       "      <th>9431</th>\n",
       "      <td>Moji mehki medenjaki</td>\n",
       "      <td>2006-12-22</td>\n",
       "      <td>2006</td>\n",
       "      <td>2</td>\n",
       "      <td>NaN</td>\n",
       "      <td>NaN</td>\n",
       "      <td>329.0</td>\n",
       "      <td>141.0</td>\n",
       "      <td>2015-12-28</td>\n",
       "      <td>2015.0</td>\n",
       "      <td>NaN</td>\n",
       "      <td>12</td>\n",
       "    </tr>\n",
       "    <tr>\n",
       "      <th>...</th>\n",
       "      <td>...</td>\n",
       "      <td>...</td>\n",
       "      <td>...</td>\n",
       "      <td>...</td>\n",
       "      <td>...</td>\n",
       "      <td>...</td>\n",
       "      <td>...</td>\n",
       "      <td>...</td>\n",
       "      <td>...</td>\n",
       "      <td>...</td>\n",
       "      <td>...</td>\n",
       "      <td>...</td>\n",
       "    </tr>\n",
       "    <tr>\n",
       "      <th>12056</th>\n",
       "      <td>Lanina torta</td>\n",
       "      <td>2008-12-22</td>\n",
       "      <td>2008</td>\n",
       "      <td>2</td>\n",
       "      <td>180</td>\n",
       "      <td>NaN</td>\n",
       "      <td>45.0</td>\n",
       "      <td>26.0</td>\n",
       "      <td>2016-09-09</td>\n",
       "      <td>2016.0</td>\n",
       "      <td>NaN</td>\n",
       "      <td>12</td>\n",
       "    </tr>\n",
       "    <tr>\n",
       "      <th>342</th>\n",
       "      <td>Kokosove rezine</td>\n",
       "      <td>1999-10-30</td>\n",
       "      <td>1999</td>\n",
       "      <td>1</td>\n",
       "      <td>NaN</td>\n",
       "      <td>NaN</td>\n",
       "      <td>5.0</td>\n",
       "      <td>2.0</td>\n",
       "      <td>2011-08-08</td>\n",
       "      <td>2011.0</td>\n",
       "      <td>NaN</td>\n",
       "      <td>10</td>\n",
       "    </tr>\n",
       "    <tr>\n",
       "      <th>14632</th>\n",
       "      <td>Novoletna torta</td>\n",
       "      <td>2011-01-08</td>\n",
       "      <td>2011</td>\n",
       "      <td>2</td>\n",
       "      <td>30</td>\n",
       "      <td>12</td>\n",
       "      <td>14.0</td>\n",
       "      <td>6.0</td>\n",
       "      <td>2013-10-13</td>\n",
       "      <td>2013.0</td>\n",
       "      <td>NaN</td>\n",
       "      <td>1</td>\n",
       "    </tr>\n",
       "    <tr>\n",
       "      <th>6336</th>\n",
       "      <td>Mini princeske</td>\n",
       "      <td>2006-03-30</td>\n",
       "      <td>2006</td>\n",
       "      <td>2</td>\n",
       "      <td>NaN</td>\n",
       "      <td>pibližno 60 kosov</td>\n",
       "      <td>27.0</td>\n",
       "      <td>5.0</td>\n",
       "      <td>2009-12-28</td>\n",
       "      <td>2009.0</td>\n",
       "      <td>NaN</td>\n",
       "      <td>3</td>\n",
       "    </tr>\n",
       "    <tr>\n",
       "      <th>1423</th>\n",
       "      <td>Čičerika iz lonca</td>\n",
       "      <td>2001-11-06</td>\n",
       "      <td>2001</td>\n",
       "      <td>1</td>\n",
       "      <td>NaN</td>\n",
       "      <td>2</td>\n",
       "      <td>19.0</td>\n",
       "      <td>1.0</td>\n",
       "      <td>2009-11-13</td>\n",
       "      <td>2009.0</td>\n",
       "      <td>NaN</td>\n",
       "      <td>11</td>\n",
       "    </tr>\n",
       "    <tr>\n",
       "      <th>18421</th>\n",
       "      <td>Pravi francoski čokoladni mousse</td>\n",
       "      <td>2013-04-25</td>\n",
       "      <td>2013</td>\n",
       "      <td>2</td>\n",
       "      <td>30</td>\n",
       "      <td>6</td>\n",
       "      <td>23.0</td>\n",
       "      <td>13.0</td>\n",
       "      <td>2014-11-14</td>\n",
       "      <td>2014.0</td>\n",
       "      <td>NaN</td>\n",
       "      <td>4</td>\n",
       "    </tr>\n",
       "  </tbody>\n",
       "</table>\n",
       "<p>1200 rows × 12 columns</p>\n",
       "</div>"
      ],
      "text/plain": [
       "                                        naslov     objava  letoobjave  \\\n",
       "id                                                                      \n",
       "3603                             Torta Nutella 2004-04-20        2004   \n",
       "12619         Čokoladno - mascarponejeve kocke 2009-05-16        2009   \n",
       "8100         Skutino pecivo za požrešne sosede 2006-10-12        2006   \n",
       "5814   Biskvit za torto, ki nikoli ne pade dol 2005-12-04        2005   \n",
       "4364                 Super dobra jabolčna pita 2004-11-29        2004   \n",
       "9431                      Moji mehki medenjaki 2006-12-22        2006   \n",
       "...                                        ...        ...         ...   \n",
       "12056                             Lanina torta 2008-12-22        2008   \n",
       "342                            Kokosove rezine 1999-10-30        1999   \n",
       "14632                          Novoletna torta 2011-01-08        2011   \n",
       "6336                            Mini princeske 2006-03-30        2006   \n",
       "1423                         Čičerika iz lonca 2001-11-06        2001   \n",
       "18421         Pravi francoski čokoladni mousse 2013-04-25        2013   \n",
       "\n",
       "       zahtevnost priprava           kolicina  stmnenj  stfoto zadnjafoto  \\\n",
       "id                                                                          \n",
       "3603            3       75                NaN   1079.0   477.0 2016-09-06   \n",
       "12619           2       45                NaN    513.0    91.0 2016-05-18   \n",
       "8100            1      NaN                NaN    299.0    59.0 2016-04-17   \n",
       "5814            2       45                NaN    339.0   246.0 2016-01-29   \n",
       "4364            1       90                NaN    171.0    62.0 2016-05-28   \n",
       "9431            2      NaN                NaN    329.0   141.0 2015-12-28   \n",
       "...           ...      ...                ...      ...     ...        ...   \n",
       "12056           2      180                NaN     45.0    26.0 2016-09-09   \n",
       "342             1      NaN                NaN      5.0     2.0 2011-08-08   \n",
       "14632           2       30                 12     14.0     6.0 2013-10-13   \n",
       "6336            2      NaN  pibližno 60 kosov     27.0     5.0 2009-12-28   \n",
       "1423            1      NaN                  2     19.0     1.0 2009-11-13   \n",
       "18421           2       30                  6     23.0    13.0 2014-11-14   \n",
       "\n",
       "       letofoto zdravajed  mesecobjave  \n",
       "id                                      \n",
       "3603     2016.0       NaN            4  \n",
       "12619    2016.0       NaN            5  \n",
       "8100     2016.0       NaN           10  \n",
       "5814     2016.0       NaN           12  \n",
       "4364     2016.0       NaN           11  \n",
       "9431     2015.0       NaN           12  \n",
       "...         ...       ...          ...  \n",
       "12056    2016.0       NaN           12  \n",
       "342      2011.0       NaN           10  \n",
       "14632    2013.0       NaN            1  \n",
       "6336     2009.0       NaN            3  \n",
       "1423     2009.0       NaN           11  \n",
       "18421    2014.0       NaN            4  \n",
       "\n",
       "[1200 rows x 12 columns]"
      ]
     },
     "execution_count": 6,
     "metadata": {},
     "output_type": "execute_result"
    }
   ],
   "source": [
    "recepti"
   ]
  },
  {
   "cell_type": "markdown",
   "metadata": {},
   "source": [
    "Za boljši občutek lahko pogledamo skupna povprečja vseh zbranih receptov za **leto objave**, **zahtevnost**, **število mnenj**, **število fotografij** in **leto zadnje objavljene fotografije**."
   ]
  },
  {
   "cell_type": "code",
   "execution_count": 9,
   "metadata": {
    "collapsed": false,
    "scrolled": true
   },
   "outputs": [
    {
     "data": {
      "text/plain": [
       "letoobjave    2006.413333\n",
       "zahtevnost       1.900833\n",
       "stmnenj         46.537114\n",
       "stfoto          10.403361\n",
       "letofoto      2012.900673\n",
       "dtype: float64"
      ]
     },
     "execution_count": 9,
     "metadata": {},
     "output_type": "execute_result"
    }
   ],
   "source": [
    "recepti.mean()[['letoobjave', 'zahtevnost', 'stmnenj', 'stfoto', 'letofoto']]"
   ]
  },
  {
   "cell_type": "markdown",
   "metadata": {},
   "source": [
    "Če pogledamo kako so recepti uvršeni po **kategorijah**, vidimo, da je daleč največ **sladic**. Kasneje bomo videli, da je kar 57% receptov **sladic**.\n",
    "\n",
    "**Kategorije receptov**:"
   ]
  },
  {
   "cell_type": "code",
   "execution_count": 10,
   "metadata": {
    "collapsed": false,
    "scrolled": false
   },
   "outputs": [
    {
     "data": {
      "text/plain": [
       "<matplotlib.axes._subplots.AxesSubplot at 0x5329518>"
      ]
     },
     "execution_count": 10,
     "metadata": {},
     "output_type": "execute_result"
    },
    {
     "data": {
      "image/png": "[encoded data removed]",
      "text/plain": [
       "<matplotlib.figure.Figure at 0x53fb9b0>"
      ]
     },
     "metadata": {},
     "output_type": "display_data"
    }
   ],
   "source": [
    "recepti_po_kategorijah = kategorije.groupby('kategorija')\n",
    "st_kategorij = recepti_po_kategorijah.size().count()\n",
    "graf_kategorij = recepti_po_kategorijah.size().sort_values(\n",
    "    ascending=False).head(st_kategorij)\n",
    "graf_kategorij.name = 'kategorije'\n",
    "# Če želimo združiti kategorije od nekje dalje v 'Ostalo'\n",
    "#graf['Ostalo'] = recepti_po_kategorijah.size().sort_values(ascending=False\n",
    "#        ).tail(recepti_po_kategorijah.size().count() - graf_kategorij.count()\n",
    "#              ).sum()\n",
    "graf_kategorij.sort_values(ascending=False).plot(kind='bar')"
   ]
  },
  {
   "cell_type": "markdown",
   "metadata": {},
   "source": [
    "**Podkategorije receptov**:"
   ]
  },
  {
   "cell_type": "code",
   "execution_count": 11,
   "metadata": {
    "collapsed": false
   },
   "outputs": [
    {
     "data": {
      "text/plain": [
       "<matplotlib.axes._subplots.AxesSubplot at 0x8dbc400>"
      ]
     },
     "execution_count": 11,
     "metadata": {},
     "output_type": "execute_result"
    },
    {
     "data": {
      "image/png": "[encoded data removed]",
      "text/plain": [
       "<matplotlib.figure.Figure at 0x8db3198>"
      ]
     },
     "metadata": {},
     "output_type": "display_data"
    }
   ],
   "source": [
    "recepti_po_podkategorijah = kategorije.groupby('podkategorija')\n",
    "st_podkategorij = recepti_po_podkategorijah.size().count()\n",
    "graf_podkategorij = recepti_po_podkategorijah.size().sort_values(\n",
    "    ascending=False).head(st_podkategorij)\n",
    "graf_podkategorij.name = 'podkategorije'\n",
    "# Če želimo združiti podkategorije od nekje dalje v 'Ostalo'\n",
    "#graf_podkategorij['Ostalo'] = recepti_po_podkategorijah.size().sort_values(\n",
    "#    ascending=False).tail(recepti_po_podkategorijah.size().count() - \n",
    "#                          graf_podkategorij.count()).sum()\n",
    "graf_podkategorij.sort_values(ascending=False).plot(kind='bar')"
   ]
  },
  {
   "cell_type": "markdown",
   "metadata": {},
   "source": [
    "**Povprečja števila mnenj, fotografij, zahtevnosti in standardni odklon za mnenja ter razmerje le tega z njihovo količino**:"
   ]
  },
  {
   "cell_type": "code",
   "execution_count": 12,
   "metadata": {
    "collapsed": false
   },
   "outputs": [
    {
     "data": {
      "text/html": [
       "<div>\n",
       "<table border=\"1\" class=\"dataframe\">\n",
       "  <thead>\n",
       "    <tr style=\"text-align: right;\">\n",
       "      <th></th>\n",
       "      <th>stmnenj</th>\n",
       "      <th>stfoto</th>\n",
       "      <th>zahtevnost</th>\n",
       "      <th>odklon mnenj</th>\n",
       "      <th>razmerje</th>\n",
       "    </tr>\n",
       "    <tr>\n",
       "      <th>kategorija</th>\n",
       "      <th></th>\n",
       "      <th></th>\n",
       "      <th></th>\n",
       "      <th></th>\n",
       "      <th></th>\n",
       "    </tr>\n",
       "  </thead>\n",
       "  <tbody>\n",
       "    <tr>\n",
       "      <th>kruh</th>\n",
       "      <td>64.370968</td>\n",
       "      <td>15.524590</td>\n",
       "      <td>1.983871</td>\n",
       "      <td>63.382325</td>\n",
       "      <td>0.984641</td>\n",
       "    </tr>\n",
       "    <tr>\n",
       "      <th>sladice</th>\n",
       "      <td>53.883382</td>\n",
       "      <td>13.771137</td>\n",
       "      <td>2.014556</td>\n",
       "      <td>69.980526</td>\n",
       "      <td>1.298740</td>\n",
       "    </tr>\n",
       "    <tr>\n",
       "      <th>sirove jedi</th>\n",
       "      <td>48.538462</td>\n",
       "      <td>5.230769</td>\n",
       "      <td>1.769231</td>\n",
       "      <td>25.408710</td>\n",
       "      <td>0.523476</td>\n",
       "    </tr>\n",
       "    <tr>\n",
       "      <th>prikuhe</th>\n",
       "      <td>43.000000</td>\n",
       "      <td>2.000000</td>\n",
       "      <td>1.000000</td>\n",
       "      <td>NaN</td>\n",
       "      <td>NaN</td>\n",
       "    </tr>\n",
       "    <tr>\n",
       "      <th>ozimnica</th>\n",
       "      <td>41.645833</td>\n",
       "      <td>3.638298</td>\n",
       "      <td>1.770833</td>\n",
       "      <td>40.223043</td>\n",
       "      <td>0.965836</td>\n",
       "    </tr>\n",
       "    <tr>\n",
       "      <th>zelenjavne jedi</th>\n",
       "      <td>37.756098</td>\n",
       "      <td>5.780488</td>\n",
       "      <td>1.512195</td>\n",
       "      <td>40.388600</td>\n",
       "      <td>1.069724</td>\n",
       "    </tr>\n",
       "    <tr>\n",
       "      <th>ostale jedi</th>\n",
       "      <td>36.687500</td>\n",
       "      <td>5.125000</td>\n",
       "      <td>1.750000</td>\n",
       "      <td>29.499647</td>\n",
       "      <td>0.804079</td>\n",
       "    </tr>\n",
       "    <tr>\n",
       "      <th>napitki</th>\n",
       "      <td>35.000000</td>\n",
       "      <td>4.250000</td>\n",
       "      <td>1.250000</td>\n",
       "      <td>25.323363</td>\n",
       "      <td>0.723525</td>\n",
       "    </tr>\n",
       "    <tr>\n",
       "      <th>mesne jedi</th>\n",
       "      <td>34.789474</td>\n",
       "      <td>4.765957</td>\n",
       "      <td>2.010526</td>\n",
       "      <td>41.544361</td>\n",
       "      <td>1.194165</td>\n",
       "    </tr>\n",
       "    <tr>\n",
       "      <th>predjedi</th>\n",
       "      <td>34.692308</td>\n",
       "      <td>6.520000</td>\n",
       "      <td>1.538462</td>\n",
       "      <td>34.050280</td>\n",
       "      <td>0.981494</td>\n",
       "    </tr>\n",
       "  </tbody>\n",
       "</table>\n",
       "</div>"
      ],
      "text/plain": [
       "                   stmnenj     stfoto  zahtevnost  odklon mnenj  razmerje\n",
       "kategorija                                                               \n",
       "kruh             64.370968  15.524590    1.983871     63.382325  0.984641\n",
       "sladice          53.883382  13.771137    2.014556     69.980526  1.298740\n",
       "sirove jedi      48.538462   5.230769    1.769231     25.408710  0.523476\n",
       "prikuhe          43.000000   2.000000    1.000000           NaN       NaN\n",
       "ozimnica         41.645833   3.638298    1.770833     40.223043  0.965836\n",
       "zelenjavne jedi  37.756098   5.780488    1.512195     40.388600  1.069724\n",
       "ostale jedi      36.687500   5.125000    1.750000     29.499647  0.804079\n",
       "napitki          35.000000   4.250000    1.250000     25.323363  0.723525\n",
       "mesne jedi       34.789474   4.765957    2.010526     41.544361  1.194165\n",
       "predjedi         34.692308   6.520000    1.538462     34.050280  0.981494"
      ]
     },
     "execution_count": 12,
     "metadata": {},
     "output_type": "execute_result"
    }
   ],
   "source": [
    "kategorije_po_mnenjih = kategorije.join(recepti.stmnenj, on='recept').join(\n",
    "recepti.stfoto, on='recept').join(recepti.zahtevnost, on='recept')\n",
    "povprecno_stmnenj_kategorije = kategorije_po_mnenjih.groupby('kategorija'\n",
    ").mean().sort_values('stmnenj', ascending = False)[['stmnenj', 'stfoto', 'zahtevnost']]\n",
    "povprecno_stmnenj_kategorije['odklon mnenj'] = kategorije_po_mnenjih.groupby('kategorija'\n",
    ").std()['stmnenj']\n",
    "povprecno_stmnenj_kategorije['razmerje'] = povprecno_stmnenj_kategorije['odklon mnenj']/povprecno_stmnenj_kategorije['stmnenj']\n",
    "povprecno_stmnenj_kategorije.head(10)"
   ]
  },
  {
   "cell_type": "markdown",
   "metadata": {},
   "source": [
    "Iz zgornjih grafov lahko razberemo, da uporabniki objavljajo največ **sladic** (predvsem **peciva**, **piškote** in **torte**). Zanimivo pa je, da imajo recepti v **kategoriji** **kruh** v povprečju **največ mnenj** in **največ fotografij** (več kot **sladice**). Vprašamo se, če je to posledica tega, da je **sladic** daleč največ med vsemi recepti, a se **standardna odklona** **kruha** in **sladic** ne razlikujeta zelo močno. Tudi **sirove jedi** imajo presenetljivo visoko povprečje, glede na to, da spadajo med **kategorije** z manj recepti. Ker smo zajeli le en recept iz kategorije **prikuh**, njihovega povprečja ne moremo upoštevati.\n",
    "\n",
    "Glede na **zahtevnost** spadajo recepti iz **kategorij** **sladice** in **mesne jedi** med težje in **napitki**, **zelenjavne jedi** in **predjedi** med lažje.\n",
    "- - - \n",
    "Poglejmo grafa **spola avtorjev** in **delež receptov glede na posamezen spol**.\n",
    "\n",
    "**Spol avtorjev**:"
   ]
  },
  {
   "cell_type": "code",
   "execution_count": 13,
   "metadata": {
    "collapsed": false
   },
   "outputs": [
    {
     "data": {
      "text/plain": [
       "<matplotlib.axes._subplots.AxesSubplot at 0x8dde3c8>"
      ]
     },
     "execution_count": 13,
     "metadata": {},
     "output_type": "execute_result"
    },
    {
     "data": {
      "image/png": "[encoded data removed]",
      "text/plain": [
       "<matplotlib.figure.Figure at 0x8e92f28>"
      ]
     },
     "metadata": {},
     "output_type": "display_data"
    }
   ],
   "source": [
    "avtorji_po_spolih = avtorji.groupby('spol')\n",
    "graf_avtorjev_po_spolih = avtorji_po_spolih.size()\n",
    "graf_avtorjev_po_spolih.name = 'Spol avtorjev'\n",
    "graf_avtorjev_po_spolih.plot(kind='pie', autopct = '%.2f%%')"
   ]
  },
  {
   "cell_type": "markdown",
   "metadata": {},
   "source": [
    "**Delež receptov glede na spol**:"
   ]
  },
  {
   "cell_type": "code",
   "execution_count": 20,
   "metadata": {
    "collapsed": false
   },
   "outputs": [
    {
     "data": {
      "text/plain": [
       "<matplotlib.axes._subplots.AxesSubplot at 0x92915c0>"
      ]
     },
     "execution_count": 20,
     "metadata": {},
     "output_type": "execute_result"
    },
    {
     "data": {
      "image/png": "[encoded data removed]",
      "text/plain": [
       "<matplotlib.figure.Figure at 0x9298ef0>"
      ]
     },
     "metadata": {},
     "output_type": "display_data"
    }
   ],
   "source": [
    "recepti_po_spolih = povezave.join(avtorji.spol, on='avtor')\n",
    "graf_receptov_po_spolih = recepti_po_spolih.groupby('spol').size()\n",
    "graf_receptov_po_spolih.name = 'Delež receptov, ki so jih napisali avtorji teh spolov'\n",
    "graf_receptov_po_spolih.plot(kind='pie', autopct = '%.2f%%')"
   ]
  },
  {
   "cell_type": "code",
   "execution_count": 9,
   "metadata": {
    "collapsed": false
   },
   "outputs": [],
   "source": [
    "recepti_po_spolih = povezave.join(avtorji.spol, on='avtor')\n",
    "kategorije_po_spolih = pd.merge(recepti_po_spolih, kategorije).groupby(\n",
    "    ['spol', 'kategorija']).size().unstack().T\n",
    "\n",
    "za_zenske = kategorije_po_spolih.nlargest(3, 'ženska')['ženska']\n",
    "za_moske = kategorije_po_spolih.nlargest(3, 'moški')['moški']\n",
    "za_marsovce = kategorije_po_spolih.nlargest(3, 'spol ni določen oz. marsovec'\n",
    "                                           )['spol ni določen oz. marsovec']\n",
    "za_zenske = pd.DataFrame(za_zenske)\n",
    "za_zenske['odstotek'] = za_zenske / graf_receptov_po_spolih['ženska']\n",
    "za_zenske.rename(columns={'ženska':'število'}, inplace=True)\n",
    "za_zenske = za_zenske.sort_values(by = 'število', ascending = False, na_position = 'first')\n",
    "\n",
    "za_moske = pd.DataFrame(za_moske)\n",
    "za_moske['odstotek'] = za_moske / graf_receptov_po_spolih['moški']\n",
    "za_moske.rename(columns={'moški':'število'}, inplace=True)\n",
    "za_moske = za_moske.sort_values(by = 'število', ascending = False, na_position = 'first')\n",
    "\n",
    "za_marsovce = pd.DataFrame(za_marsovce)\n",
    "za_marsovce['odstotek'] = za_marsovce / graf_receptov_po_spolih['spol ni določen oz. marsovec']\n",
    "za_marsovce.rename(columns={'spol ni določen oz. marsovec':'število'}, inplace=True)\n",
    "za_marsovce = za_marsovce.sort_values(by = 'število', ascending = False, na_position = 'first')"
   ]
  },
  {
   "cell_type": "code",
   "execution_count": 10,
   "metadata": {
    "collapsed": false
   },
   "outputs": [
    {
     "data": {
      "text/html": [
       "<div>\n",
       "<table border=\"1\" class=\"dataframe\">\n",
       "  <thead>\n",
       "    <tr style=\"text-align: right;\">\n",
       "      <th></th>\n",
       "      <th>število</th>\n",
       "      <th>odstotek</th>\n",
       "    </tr>\n",
       "    <tr>\n",
       "      <th>kategorija</th>\n",
       "      <th></th>\n",
       "      <th></th>\n",
       "    </tr>\n",
       "  </thead>\n",
       "  <tbody>\n",
       "    <tr>\n",
       "      <th>sladice</th>\n",
       "      <td>580.0</td>\n",
       "      <td>0.605428</td>\n",
       "    </tr>\n",
       "    <tr>\n",
       "      <th>mesne jedi</th>\n",
       "      <td>66.0</td>\n",
       "      <td>0.068894</td>\n",
       "    </tr>\n",
       "    <tr>\n",
       "      <th>kruh</th>\n",
       "      <td>48.0</td>\n",
       "      <td>0.050104</td>\n",
       "    </tr>\n",
       "  </tbody>\n",
       "</table>\n",
       "</div>"
      ],
      "text/plain": [
       "            število  odstotek\n",
       "kategorija                   \n",
       "sladice       580.0  0.605428\n",
       "mesne jedi     66.0  0.068894\n",
       "kruh           48.0  0.050104"
      ]
     },
     "execution_count": 10,
     "metadata": {},
     "output_type": "execute_result"
    }
   ],
   "source": [
    "za_zenske"
   ]
  },
  {
   "cell_type": "code",
   "execution_count": 11,
   "metadata": {
    "collapsed": false
   },
   "outputs": [
    {
     "data": {
      "text/html": [
       "<div>\n",
       "<table border=\"1\" class=\"dataframe\">\n",
       "  <thead>\n",
       "    <tr style=\"text-align: right;\">\n",
       "      <th></th>\n",
       "      <th>število</th>\n",
       "      <th>odstotek</th>\n",
       "    </tr>\n",
       "    <tr>\n",
       "      <th>kategorija</th>\n",
       "      <th></th>\n",
       "      <th></th>\n",
       "    </tr>\n",
       "  </thead>\n",
       "  <tbody>\n",
       "    <tr>\n",
       "      <th>sladice</th>\n",
       "      <td>15.0</td>\n",
       "      <td>0.217391</td>\n",
       "    </tr>\n",
       "    <tr>\n",
       "      <th>mesne jedi</th>\n",
       "      <td>12.0</td>\n",
       "      <td>0.173913</td>\n",
       "    </tr>\n",
       "    <tr>\n",
       "      <th>kruh</th>\n",
       "      <td>8.0</td>\n",
       "      <td>0.115942</td>\n",
       "    </tr>\n",
       "  </tbody>\n",
       "</table>\n",
       "</div>"
      ],
      "text/plain": [
       "            število  odstotek\n",
       "kategorija                   \n",
       "sladice        15.0  0.217391\n",
       "mesne jedi     12.0  0.173913\n",
       "kruh            8.0  0.115942"
      ]
     },
     "execution_count": 11,
     "metadata": {},
     "output_type": "execute_result"
    }
   ],
   "source": [
    "za_moske"
   ]
  },
  {
   "cell_type": "code",
   "execution_count": 12,
   "metadata": {
    "collapsed": false
   },
   "outputs": [
    {
     "data": {
      "text/html": [
       "<div>\n",
       "<table border=\"1\" class=\"dataframe\">\n",
       "  <thead>\n",
       "    <tr style=\"text-align: right;\">\n",
       "      <th></th>\n",
       "      <th>število</th>\n",
       "      <th>odstotek</th>\n",
       "    </tr>\n",
       "    <tr>\n",
       "      <th>kategorija</th>\n",
       "      <th></th>\n",
       "      <th></th>\n",
       "    </tr>\n",
       "  </thead>\n",
       "  <tbody>\n",
       "    <tr>\n",
       "      <th>sladice</th>\n",
       "      <td>76.0</td>\n",
       "      <td>0.513514</td>\n",
       "    </tr>\n",
       "    <tr>\n",
       "      <th>mesne jedi</th>\n",
       "      <td>17.0</td>\n",
       "      <td>0.114865</td>\n",
       "    </tr>\n",
       "    <tr>\n",
       "      <th>priloge</th>\n",
       "      <td>8.0</td>\n",
       "      <td>0.054054</td>\n",
       "    </tr>\n",
       "  </tbody>\n",
       "</table>\n",
       "</div>"
      ],
      "text/plain": [
       "            število  odstotek\n",
       "kategorija                   \n",
       "sladice        76.0  0.513514\n",
       "mesne jedi     17.0  0.114865\n",
       "priloge         8.0  0.054054"
      ]
     },
     "execution_count": 12,
     "metadata": {},
     "output_type": "execute_result"
    }
   ],
   "source": [
    "za_marsovce"
   ]
  },
  {
   "cell_type": "markdown",
   "metadata": {},
   "source": [
    "Prvi graf zgoraj prikazujeje koliko odstotkov avtorjev je katerega **spola** (prevladujejo **ženske**). Drugi graf prikazuje koliko odstotkov receptov so napisali predstavniki kakega **spola** (glede na prejšnji graf se razlikuje predvsem pri **nedoločenem spolu** in pri **moških**). Iz tega sledi da **ženske avtorice** v povprečju napišejo več receptov kot **moški avtorji**. Zgoraj pa vidimo za katere kategorije posamezni **spoli** napišejo največ receptov. Pri vseh sta prvi dve **kategoriji** **sladice** in **mesne jedi**, razlikujejo pa se pri tretji - pri **moških** in **ženskah** je to **kruh**, pri **nedoločenem spolu** pa **priloge**. Odstotek nam pove, kolikšen delež receptov, ki jih je napisal tisti **spol**, predstavlja ta **kategorija**. Pri **ženskah** in **nedoločenem spolu** **sladice** predstavljajo večino njihovih receptov, pri **moških** pa so **kategorije** bolj enakomerno razporejene.\n",
    "- - - \n",
    "Zanima nas tudi, ali imajo starejši recepti več **mnenj** kot novi, zato si bomo ogledali naslednji graf."
   ]
  },
  {
   "cell_type": "code",
   "execution_count": 13,
   "metadata": {
    "collapsed": false
   },
   "outputs": [
    {
     "data": {
      "text/plain": [
       "<matplotlib.axes._subplots.AxesSubplot at 0x5bc3780>"
      ]
     },
     "execution_count": 13,
     "metadata": {},
     "output_type": "execute_result"
    },
    {
     "data": {
      "image/png": "[encoded data removed]",
      "text/plain": [
       "<matplotlib.figure.Figure at 0x5bd2048>"
      ]
     },
     "metadata": {},
     "output_type": "display_data"
    }
   ],
   "source": [
    "recepti.plot(x = 'objava', y = 'stmnenj')"
   ]
  },
  {
   "cell_type": "markdown",
   "metadata": {},
   "source": [
    "Vidimo, da recepti z največ **mnenji** niso niti najnovejši niti najstarejši med recepti. Te podatke lahko razlozimo preprosto tako, da spletna stran na začetku še ni bila zelo obiskana in ni imela veliko uporabnikov, novejši recepti pa na strani še niso dovolj dolgo, da bi pridobili veliko **število mnenj**.\n",
    "- - - \n",
    "Nekaj receptov ima podatek, da spadajo med **bolj zdrave jedi** - primerjajmo jih z ostalimi."
   ]
  },
  {
   "cell_type": "code",
   "execution_count": 14,
   "metadata": {
    "collapsed": false
   },
   "outputs": [
    {
     "data": {
      "text/html": [
       "<div>\n",
       "<table border=\"1\" class=\"dataframe\">\n",
       "  <thead>\n",
       "    <tr style=\"text-align: right;\">\n",
       "      <th></th>\n",
       "      <th>zahtevnost</th>\n",
       "      <th>stmnenj</th>\n",
       "      <th>stfoto</th>\n",
       "    </tr>\n",
       "  </thead>\n",
       "  <tbody>\n",
       "    <tr>\n",
       "      <th>ostale</th>\n",
       "      <td>1.907861</td>\n",
       "      <td>46.664975</td>\n",
       "      <td>10.454390</td>\n",
       "    </tr>\n",
       "    <tr>\n",
       "      <th>zdrave</th>\n",
       "      <td>1.411765</td>\n",
       "      <td>37.647059</td>\n",
       "      <td>6.882353</td>\n",
       "    </tr>\n",
       "  </tbody>\n",
       "</table>\n",
       "</div>"
      ],
      "text/plain": [
       "        zahtevnost    stmnenj     stfoto\n",
       "ostale    1.907861  46.664975  10.454390\n",
       "zdrave    1.411765  37.647059   6.882353"
      ]
     },
     "execution_count": 14,
     "metadata": {},
     "output_type": "execute_result"
    }
   ],
   "source": [
    "zdrave_jedi = recepti[recepti.zdravajed == 'Bolj zdrava jed']\n",
    "zdrave = zdrave_jedi[['zahtevnost', 'stmnenj', 'stfoto']].mean()\n",
    "zdrave = pd.DataFrame(zdrave)\n",
    "zdrave.rename(columns={0:'zdrave'}, inplace=True)\n",
    "ostale_jedi = recepti[recepti.zdravajed != 'Bolj zdrava jed']\n",
    "ostale = ostale_jedi[['zahtevnost', 'stmnenj', 'stfoto']].mean()\n",
    "ostale = pd.DataFrame(ostale)\n",
    "ostale.rename(columns={0:'ostale'}, inplace=True)\n",
    "pd.concat([ostale.T, zdrave.T])"
   ]
  },
  {
   "cell_type": "markdown",
   "metadata": {},
   "source": [
    "V povprečju so torej **bolj zdrave jedi** med manj ogledanimi in pripravljenimi, čeprav je povprečna **zahtevnost** nižja od povprečne **zahtevnosti** ostalih jedi. Jesti zdravo torej ni tako zahtevno.\n",
    "- - - \n",
    "Pri podatkih o **času priprave**, se nahaja podatek 4+ ur, ki ga pri računanju povprečja ne moremo uporabiti."
   ]
  },
  {
   "cell_type": "code",
   "execution_count": 15,
   "metadata": {
    "collapsed": false
   },
   "outputs": [
    {
     "data": {
      "text/plain": [
       "priprava\n",
       "150        4\n",
       "5          8\n",
       "240       10\n",
       "4+ ur     28\n",
       "15        31\n",
       "180       41\n",
       "75        61\n",
       "90        90\n",
       "30        91\n",
       "120       94\n",
       "45       118\n",
       "60       142\n",
       "dtype: int64"
      ]
     },
     "execution_count": 15,
     "metadata": {},
     "output_type": "execute_result"
    }
   ],
   "source": [
    "recepti_po_casu = recepti.groupby('priprava')\n",
    "recepti_po_casu.size().sort_values()"
   ]
  },
  {
   "cell_type": "markdown",
   "metadata": {},
   "source": [
    "Glede na zgornje podatke vidimo, da ima največ receptov **čas priprave** 60 minut, sledijo pa jim recepti s **časom priprave** 45 minut.\n",
    "- - -\n",
    "Graf spodaj pa prikazuje število receptov za posamezno **zahtevnost** (1 = najlažje, 5 = najtežje). Receptov **težavnosti** 4. ali 5. stopnje ni veliko."
   ]
  },
  {
   "cell_type": "code",
   "execution_count": 16,
   "metadata": {
    "collapsed": false
   },
   "outputs": [
    {
     "data": {
      "text/plain": [
       "<matplotlib.axes._subplots.AxesSubplot at 0x5c4a470>"
      ]
     },
     "execution_count": 16,
     "metadata": {},
     "output_type": "execute_result"
    },
    {
     "data": {
      "image/png": "[encoded data removed]",
      "text/plain": [
       "<matplotlib.figure.Figure at 0x5c4de80>"
      ]
     },
     "metadata": {},
     "output_type": "display_data"
    }
   ],
   "source": [
    "recepti_po_tezavnosti = recepti.groupby('zahtevnost')\n",
    "recepti_po_tezavnosti.size().plot(kind = 'bar', color=['r', 'g', 'b', 'c', 'y'])"
   ]
  },
  {
   "cell_type": "markdown",
   "metadata": {},
   "source": [
    "Ali so recepti, ki jih pripravljamo dlje tudi težji? Spodnji graf prikazuje povprečno **težavnost** za posamezen **čas priprave**. Hitreje pripravljeni recepti imajo res nižje povprečno **težavnost** od receptov z dolgim **časom priprave**"
   ]
  },
  {
   "cell_type": "code",
   "execution_count": 17,
   "metadata": {
    "collapsed": false
   },
   "outputs": [
    {
     "data": {
      "text/plain": [
       "<matplotlib.axes._subplots.AxesSubplot at 0x5ce1f28>"
      ]
     },
     "execution_count": 17,
     "metadata": {},
     "output_type": "execute_result"
    },
    {
     "data": {
      "image/png": "[encoded data removed]",
      "text/plain": [
       "<matplotlib.figure.Figure at 0x9dc1860>"
      ]
     },
     "metadata": {},
     "output_type": "display_data"
    }
   ],
   "source": [
    "cas_in_zahtevnost = recepti_po_casu.mean()['zahtevnost']\n",
    "cas_in_zahtevnost.sort_values().plot(kind = 'bar')"
   ]
  },
  {
   "cell_type": "markdown",
   "metadata": {},
   "source": [
    "Če pa odvzamemo podatek o **času priprave** 4+ ur, lahko izračunamo povprečen **čas priprave** (v minutah) za posamezno **težavnost**. To je prikazano v grafu spodaj. Povprečen **čas priprave** res narašča glede na **zahtevnost**, pri **težavnosti** 5. stopnje pa je nepričakovano kratek."
   ]
  },
  {
   "cell_type": "code",
   "execution_count": 18,
   "metadata": {
    "collapsed": false
   },
   "outputs": [
    {
     "data": {
      "text/plain": [
       "<matplotlib.axes._subplots.AxesSubplot at 0x9ddb978>"
      ]
     },
     "execution_count": 18,
     "metadata": {},
     "output_type": "execute_result"
    },
    {
     "data": {
      "image/png": "[encoded data removed]",
      "text/plain": [
       "<matplotlib.figure.Figure at 0x9de34a8>"
      ]
     },
     "metadata": {},
     "output_type": "display_data"
    }
   ],
   "source": [
    "uporabni_casi = recepti[recepti.priprava != '4+ ur']\n",
    "priprava = pd.DataFrame(pd.to_numeric(uporabni_casi['priprava']))\n",
    "zahtevnost = pd.DataFrame(uporabni_casi['zahtevnost'])\n",
    "zahtevnost_in_cas = pd.concat([zahtevnost, priprava], axis=1, join='inner')\n",
    "zahtevnost_in_cas.groupby('zahtevnost').mean().plot(kind = 'bar', color=['r', 'g', 'b', 'c', 'y'])"
   ]
  },
  {
   "cell_type": "markdown",
   "metadata": {},
   "source": [
    "Da razložimo pojav pri 5. **težavnostni** stopnji si lahko pogledamo število receptov za posamezno **zahtevnost**. Ostal nam je le en recept **težavnosti** 5. stopnje, zato zgornji povprečen **čas priprave** ne prikazuje realne slike (ni dejansko povprečje). Preostale recepte 5. **težavnosti** smo očino odstranili, ko smo odstranili recepte s **časom priprave** 4+ ur (torej imajo recepti te **težavnosti** res dolg **čas priprave**, ki pa ga nismo mogli izračunati)."
   ]
  },
  {
   "cell_type": "code",
   "execution_count": 19,
   "metadata": {
    "collapsed": false
   },
   "outputs": [
    {
     "data": {
      "text/html": [
       "<div>\n",
       "<table border=\"1\" class=\"dataframe\">\n",
       "  <thead>\n",
       "    <tr style=\"text-align: right;\">\n",
       "      <th></th>\n",
       "      <th>priprava</th>\n",
       "    </tr>\n",
       "    <tr>\n",
       "      <th>zahtevnost</th>\n",
       "      <th></th>\n",
       "    </tr>\n",
       "  </thead>\n",
       "  <tbody>\n",
       "    <tr>\n",
       "      <th>1</th>\n",
       "      <td>228</td>\n",
       "    </tr>\n",
       "    <tr>\n",
       "      <th>2</th>\n",
       "      <td>307</td>\n",
       "    </tr>\n",
       "    <tr>\n",
       "      <th>3</th>\n",
       "      <td>135</td>\n",
       "    </tr>\n",
       "    <tr>\n",
       "      <th>4</th>\n",
       "      <td>19</td>\n",
       "    </tr>\n",
       "    <tr>\n",
       "      <th>5</th>\n",
       "      <td>1</td>\n",
       "    </tr>\n",
       "  </tbody>\n",
       "</table>\n",
       "</div>"
      ],
      "text/plain": [
       "            priprava\n",
       "zahtevnost          \n",
       "1                228\n",
       "2                307\n",
       "3                135\n",
       "4                 19\n",
       "5                  1"
      ]
     },
     "execution_count": 19,
     "metadata": {},
     "output_type": "execute_result"
    }
   ],
   "source": [
    "zahtevnost_in_cas[pd.notnull(zahtevnost_in_cas.priprava)].groupby('zahtevnost').count()"
   ]
  },
  {
   "cell_type": "markdown",
   "metadata": {},
   "source": [
    "Spodaj vidimo, da se podatek o **količini hrane**, ki jo z receptom pripravimo, razlikuje od recepta do recepta in z njim težko karkoli izračunamo. Največ receptov pa ima **količine** za 2 ali 4 osebe."
   ]
  },
  {
   "cell_type": "code",
   "execution_count": 20,
   "metadata": {
    "collapsed": false
   },
   "outputs": [
    {
     "data": {
      "text/plain": [
       "kolicina\n",
       "                        1\n",
       "en klasičen pekač       1\n",
       "dva rebrasta modela     1\n",
       "dva pekača              1\n",
       "do 30 piškotov          1\n",
       "cirka 20 komadov        1\n",
       "                       ..\n",
       "2 osebi                10\n",
       "za 2 osebi             15\n",
       "4                      15\n",
       "12 kosov               18\n",
       "za 4 osebe             31\n",
       "4 osebe                36\n",
       "dtype: int64"
      ]
     },
     "execution_count": 20,
     "metadata": {},
     "output_type": "execute_result"
    }
   ],
   "source": [
    "recepti_po_kolicinah = recepti.groupby('kolicina')\n",
    "recepti_po_kolicinah.size().sort_values()"
   ]
  },
  {
   "cell_type": "markdown",
   "metadata": {},
   "source": [
    "Kako pa je z razporeditvijo receptov skozi **mesece**? Vzemimo za primer **sladice**:"
   ]
  },
  {
   "cell_type": "code",
   "execution_count": 21,
   "metadata": {
    "collapsed": false
   },
   "outputs": [
    {
     "data": {
      "text/plain": [
       "<matplotlib.axes._subplots.AxesSubplot at 0x9e66470>"
      ]
     },
     "execution_count": 21,
     "metadata": {},
     "output_type": "execute_result"
    },
    {
     "data": {
      "image/png": "[encoded data removed]",
      "text/plain": [
       "<matplotlib.figure.Figure at 0x9e76f28>"
      ]
     },
     "metadata": {},
     "output_type": "display_data"
    }
   ],
   "source": [
    "kategorije_meseci = kategorije.join(recepti.mesecobjave, on='recept'). join(recepti.objava, on='recept')\n",
    "sladice_mesec = kategorije_meseci[kategorije_meseci['kategorija'] == 'sladice']\n",
    "stevilo_sladic = sladice_mesec.groupby('mesecobjave').size()\n",
    "stevilo_sladic = pd.DataFrame(stevilo_sladic)\n",
    "stevilo_sladic['delež'] = stevilo_sladic / recepti_po_kategorijah.size()['sladice']\n",
    "stevilo_sladic = stevilo_sladic.rename(columns = {0:'število'})\n",
    "stevilo_sladic['delež'].plot()"
   ]
  },
  {
   "cell_type": "markdown",
   "metadata": {},
   "source": [
    "Vidimo, da je delež **sladic** objavljenih v **zimskem obdobju** občutno večji kot delež **sladic** objavljenih med **poletjem**.\n",
    "- - -\n",
    "Ker je **sladic** tako veliko, si lahko še ogledamo, kdo objavlja največ **sladic** in kakšnega **spola** so njihovi avtorji:"
   ]
  },
  {
   "cell_type": "code",
   "execution_count": 31,
   "metadata": {
    "collapsed": false
   },
   "outputs": [
    {
     "data": {
      "text/plain": [
       "<matplotlib.axes._subplots.AxesSubplot at 0x9362080>"
      ]
     },
     "execution_count": 31,
     "metadata": {},
     "output_type": "execute_result"
    },
    {
     "data": {
      "image/png": "[encoded data removed]",
      "text/plain": [
       "<matplotlib.figure.Figure at 0x9362e10>"
      ]
     },
     "metadata": {},
     "output_type": "display_data"
    }
   ],
   "source": [
    "kategorije_avtorji = pd.merge(povezave, kategorije)\n",
    "kategorije_avtorji = kategorije_avtorji[(kategorije_avtorji['kategorija'] == 'sladice')].groupby(\n",
    "    'avtor').size().sort_values(ascending = False)\n",
    "kategorije_avtorji = pd.DataFrame(kategorije_avtorji)\n",
    "kategorije_avtorji = kategorije_avtorji.rename(columns = {0:'število'})\n",
    "kategorije_avtorji = kategorije_avtorji.join(avtorji)\n",
    "kategorije_avtorji.groupby('spol').size().plot(kind = 'pie', autopct = '%.2f%%', colors=['y', 'g', 'r'])"
   ]
  },
  {
   "cell_type": "code",
   "execution_count": 33,
   "metadata": {
    "collapsed": false
   },
   "outputs": [
    {
     "data": {
      "text/plain": [
       "spol\n",
       "moški                           0.285714\n",
       "spol ni določen oz. marsovec    0.706897\n",
       "ženska                          0.713987\n",
       "Name: delež, dtype: float64"
      ]
     },
     "execution_count": 33,
     "metadata": {},
     "output_type": "execute_result"
    }
   ],
   "source": [
    "delez_receptov_spola = pd.DataFrame(kategorije_avtorji.groupby('spol').size())\n",
    "delez_receptov_spola = delez_receptov_spola.rename(columns = {0:'število'})\n",
    "delez_receptov_spola = delez_receptov_spola.join(graf_avtorjev_po_spolih)\n",
    "delez_receptov_spola['delež'] = delez_receptov_spola['število'] / delez_receptov_spola['Spol avtorjev']\n",
    "delez_receptov_spola['delež']"
   ]
  },
  {
   "cell_type": "code",
   "execution_count": 24,
   "metadata": {
    "collapsed": false
   },
   "outputs": [
    {
     "data": {
      "text/html": [
       "<div>\n",
       "<table border=\"1\" class=\"dataframe\">\n",
       "  <thead>\n",
       "    <tr style=\"text-align: right;\">\n",
       "      <th></th>\n",
       "      <th>število</th>\n",
       "      <th>avtor</th>\n",
       "      <th>spol</th>\n",
       "    </tr>\n",
       "    <tr>\n",
       "      <th>avtor</th>\n",
       "      <th></th>\n",
       "      <th></th>\n",
       "      <th></th>\n",
       "    </tr>\n",
       "  </thead>\n",
       "  <tbody>\n",
       "    <tr>\n",
       "      <th>jade</th>\n",
       "      <td>18</td>\n",
       "      <td>jade</td>\n",
       "      <td>ženska</td>\n",
       "    </tr>\n",
       "    <tr>\n",
       "      <th>marinka</th>\n",
       "      <td>14</td>\n",
       "      <td>Marinka</td>\n",
       "      <td>ženska</td>\n",
       "    </tr>\n",
       "    <tr>\n",
       "      <th>mamamia</th>\n",
       "      <td>13</td>\n",
       "      <td>mamamia</td>\n",
       "      <td>ženska</td>\n",
       "    </tr>\n",
       "    <tr>\n",
       "      <th>riko</th>\n",
       "      <td>13</td>\n",
       "      <td>Riko</td>\n",
       "      <td>spol ni določen oz. marsovec</td>\n",
       "    </tr>\n",
       "    <tr>\n",
       "      <th>bannanna</th>\n",
       "      <td>12</td>\n",
       "      <td>bannanna</td>\n",
       "      <td>ženska</td>\n",
       "    </tr>\n",
       "    <tr>\n",
       "      <th>vanja_v_zda</th>\n",
       "      <td>11</td>\n",
       "      <td>Vanja_v_ZDA</td>\n",
       "      <td>ženska</td>\n",
       "    </tr>\n",
       "    <tr>\n",
       "      <th>majdi</th>\n",
       "      <td>10</td>\n",
       "      <td>majdi</td>\n",
       "      <td>ženska</td>\n",
       "    </tr>\n",
       "    <tr>\n",
       "      <th>tiuba</th>\n",
       "      <td>9</td>\n",
       "      <td>TIUBA</td>\n",
       "      <td>ženska</td>\n",
       "    </tr>\n",
       "    <tr>\n",
       "      <th>marta</th>\n",
       "      <td>9</td>\n",
       "      <td>marta</td>\n",
       "      <td>ženska</td>\n",
       "    </tr>\n",
       "    <tr>\n",
       "      <th>1bdv35xaykwwsb40</th>\n",
       "      <td>8</td>\n",
       "      <td>šjorca</td>\n",
       "      <td>ženska</td>\n",
       "    </tr>\n",
       "  </tbody>\n",
       "</table>\n",
       "</div>"
      ],
      "text/plain": [
       "                  število        avtor                          spol\n",
       "avtor                                                               \n",
       "jade                   18         jade                        ženska\n",
       "marinka                14      Marinka                        ženska\n",
       "mamamia                13      mamamia                        ženska\n",
       "riko                   13         Riko  spol ni določen oz. marsovec\n",
       "bannanna               12     bannanna                        ženska\n",
       "vanja_v_zda            11  Vanja_v_ZDA                        ženska\n",
       "majdi                  10        majdi                        ženska\n",
       "tiuba                   9        TIUBA                        ženska\n",
       "marta                   9        marta                        ženska\n",
       "1bdv35xaykwwsb40        8       šjorca                        ženska"
      ]
     },
     "execution_count": 24,
     "metadata": {},
     "output_type": "execute_result"
    }
   ],
   "source": [
    "kategorije_avtorji.head(10)"
   ]
  },
  {
   "cell_type": "markdown",
   "metadata": {},
   "source": [
    "Veliko večino receptov v kategoriji **sladice** torej napišejo **ženske**. Srednji izračun pa nam pokaže, da približno 70% **žensk** in avtorjev **nedoločenega spola** objavlja **sladice**, medtem ko le okoli 30% **moških** objavlja recepte te **kategorije**.\n",
    "\n",
    "Nekaj tabel prej smo računali deleže za posamezne **spole** glede na recepte (kjer so za več receptov lahko enaki avtorji, tj. enak **spol**), tu pa računamo deleže glede na avtorje (torej se ti ne ponavljajo).\n",
    "- - -\n",
    "Kako pa je pri ostalih bolj popularnih **kategorijah**? Poglejmo si še recepte v **kategoriji** **kruh**."
   ]
  },
  {
   "cell_type": "code",
   "execution_count": 25,
   "metadata": {
    "collapsed": false
   },
   "outputs": [
    {
     "data": {
      "text/plain": [
       "<matplotlib.axes._subplots.AxesSubplot at 0x9ed00b8>"
      ]
     },
     "execution_count": 25,
     "metadata": {},
     "output_type": "execute_result"
    },
    {
     "data": {
      "image/png": "[encoded data removed]",
      "text/plain": [
       "<matplotlib.figure.Figure at 0x9f52710>"
      ]
     },
     "metadata": {},
     "output_type": "display_data"
    }
   ],
   "source": [
    "kategorije_avtorji_kruh = pd.merge(povezave, kategorije)\n",
    "kategorije_avtorji_kruh = kategorije_avtorji_kruh[(kategorije_avtorji_kruh['kategorija'] == 'kruh')].groupby(\n",
    "    'avtor').size().sort_values(ascending = False)\n",
    "kategorije_avtorji_kruh = pd.DataFrame(kategorije_avtorji_kruh)\n",
    "kategorije_avtorji_kruh = kategorije_avtorji_kruh.rename(columns = {0:'število'})\n",
    "kategorije_avtorji_kruh = kategorije_avtorji_kruh.join(avtorji)\n",
    "kategorije_avtorji_kruh.groupby('spol').size().plot(kind = 'pie', autopct = '%.2f%%', colors=['y', 'g', 'r'])"
   ]
  },
  {
   "cell_type": "code",
   "execution_count": 26,
   "metadata": {
    "collapsed": false
   },
   "outputs": [
    {
     "data": {
      "text/plain": [
       "spol\n",
       "moški                           0.122449\n",
       "spol ni določen oz. marsovec    0.103448\n",
       "ženska                          0.081420\n",
       "Name: delež, dtype: float64"
      ]
     },
     "execution_count": 26,
     "metadata": {},
     "output_type": "execute_result"
    }
   ],
   "source": [
    "delez_receptov_spola_kruh = pd.DataFrame(kategorije_avtorji_kruh.groupby('spol').size())\n",
    "delez_receptov_spola_kruh = delez_receptov_spola_kruh.rename(columns = {0:'število'})\n",
    "delez_receptov_spola_kruh = delez_receptov_spola_kruh.join(graf_avtorjev_po_spolih)\n",
    "delez_receptov_spola_kruh['delež'] = delez_receptov_spola_kruh['število'] / delez_receptov_spola_kruh['Spol avtorjev']\n",
    "delez_receptov_spola_kruh['delež']"
   ]
  },
  {
   "cell_type": "markdown",
   "metadata": {},
   "source": [
    "Zgornji podatki nam pokažejo, da sicer **ženske** napišejo večino receptov tudi v tej **kategoriji** (**ženskih** avtoric je namreč dosti več kot avtorjev ostalih **spolov**), ampak je delež **ženskih** avtoric, ki pišejo recepte v tej **kategoriji** le 8%. Medtem pa 12% **moških** avtorjev piše za to **kategorijo**.\n",
    "- - -\n",
    "Kako je pri **mesnih jedeh**?"
   ]
  },
  {
   "cell_type": "code",
   "execution_count": 27,
   "metadata": {
    "collapsed": false
   },
   "outputs": [
    {
     "data": {
      "text/plain": [
       "<matplotlib.axes._subplots.AxesSubplot at 0x9fb9ef0>"
      ]
     },
     "execution_count": 27,
     "metadata": {},
     "output_type": "execute_result"
    },
    {
     "data": {
      "image/png": "[encoded data removed]",
      "text/plain": [
       "<matplotlib.figure.Figure at 0x9fbf9e8>"
      ]
     },
     "metadata": {},
     "output_type": "display_data"
    }
   ],
   "source": [
    "kategorije_avtorji_meso = pd.merge(povezave, kategorije)\n",
    "kategorije_avtorji_meso = kategorije_avtorji_meso[(kategorije_avtorji_meso['kategorija'] == 'mesne jedi')].groupby(\n",
    "    'avtor').size().sort_values(ascending = False)\n",
    "kategorije_avtorji_meso = pd.DataFrame(kategorije_avtorji_meso)\n",
    "kategorije_avtorji_meso = kategorije_avtorji_meso.rename(columns = {0:'število'})\n",
    "kategorije_avtorji_meso = kategorije_avtorji_meso.join(avtorji)\n",
    "kategorije_avtorji_meso.groupby('spol').size().plot(kind = 'pie', autopct = '%.2f%%', colors=['y', 'g', 'r'])"
   ]
  },
  {
   "cell_type": "code",
   "execution_count": 28,
   "metadata": {
    "collapsed": false
   },
   "outputs": [
    {
     "data": {
      "text/plain": [
       "spol\n",
       "moški                           0.142857\n",
       "spol ni določen oz. marsovec    0.120690\n",
       "ženska                          0.108559\n",
       "Name: delež, dtype: float64"
      ]
     },
     "execution_count": 28,
     "metadata": {},
     "output_type": "execute_result"
    }
   ],
   "source": [
    "delez_receptov_spola_meso = pd.DataFrame(kategorije_avtorji_meso.groupby('spol').size())\n",
    "delez_receptov_spola_meso = delez_receptov_spola_meso.rename(columns = {0:'število'})\n",
    "delez_receptov_spola_meso = delez_receptov_spola_meso.join(graf_avtorjev_po_spolih)\n",
    "delez_receptov_spola_meso['delež'] = delez_receptov_spola_meso['število'] / delez_receptov_spola_meso['Spol avtorjev']\n",
    "delez_receptov_spola_meso['delež']"
   ]
  },
  {
   "cell_type": "markdown",
   "metadata": {},
   "source": [
    "Pri **mesnih jedeh** je podobno kot pri kruhu večina receptov napisana s strani **ženskih** avtoric, a je odstotek **moških** avtorjev, ki pišejo za to **kategorijo** višji kot odstotek **ženskih** avtoric.\n",
    "- - -\n",
    "Zadnja **kategorija**, ki jo bomo tako obravnavali so **zelenjavne jedi**:"
   ]
  },
  {
   "cell_type": "code",
   "execution_count": 29,
   "metadata": {
    "collapsed": false
   },
   "outputs": [
    {
     "data": {
      "text/plain": [
       "<matplotlib.axes._subplots.AxesSubplot at 0xa01d828>"
      ]
     },
     "execution_count": 29,
     "metadata": {},
     "output_type": "execute_result"
    },
    {
     "data": {
      "image/png": "[encoded data removed]",
      "text/plain": [
       "<matplotlib.figure.Figure at 0xa025470>"
      ]
     },
     "metadata": {},
     "output_type": "display_data"
    }
   ],
   "source": [
    "kategorije_avtorji_zelenjava = pd.merge(povezave, kategorije)\n",
    "kategorije_avtorji_zelenjava = kategorije_avtorji_zelenjava[(kategorije_avtorji_zelenjava['kategorija']\n",
    "    == 'zelenjavne jedi')].groupby('avtor').size().sort_values(ascending = False)\n",
    "kategorije_avtorji_zelenjava = pd.DataFrame(kategorije_avtorji_zelenjava)\n",
    "kategorije_avtorji_zelenjava = kategorije_avtorji_zelenjava.rename(columns = {0:'število'})\n",
    "kategorije_avtorji_zelenjava = kategorije_avtorji_zelenjava.join(avtorji)\n",
    "kategorije_avtorji_zelenjava.groupby('spol').size().plot(kind = 'pie', autopct = '%.2f%%', colors=['g', 'r'])"
   ]
  },
  {
   "cell_type": "code",
   "execution_count": 30,
   "metadata": {
    "collapsed": false
   },
   "outputs": [
    {
     "data": {
      "text/plain": [
       "spol\n",
       "spol ni določen oz. marsovec    0.103448\n",
       "ženska                          0.062630\n",
       "Name: delež, dtype: float64"
      ]
     },
     "execution_count": 30,
     "metadata": {},
     "output_type": "execute_result"
    }
   ],
   "source": [
    "delez_receptov_spola_zelenjava = pd.DataFrame(kategorije_avtorji_zelenjava.groupby('spol').size())\n",
    "delez_receptov_spola_zelenjava = delez_receptov_spola_zelenjava.rename(columns = {0:'število'})\n",
    "delez_receptov_spola_zelenjava = delez_receptov_spola_zelenjava.join(graf_avtorjev_po_spolih)\n",
    "delez_receptov_spola_zelenjava['delež'] = delez_receptov_spola_zelenjava['število'] / delez_receptov_spola_zelenjava['Spol avtorjev']\n",
    "delez_receptov_spola_zelenjava['delež']"
   ]
  },
  {
   "cell_type": "markdown",
   "metadata": {},
   "source": [
    "Preseneti nas morda podatek, da med zbranimi recepti v kategoriji **zelenjavnih jedi** ni noben recept napisan s strani **moških** avtorjev. Odstotek receptov napisanih s strani **nedoločenega spola** pa je tudi višji kot pri prejšnjih **kategorijah**.\n",
    "- - -\n",
    "### Lahko pripredimo fukcije g. Pretnarja in poskusimo iz naslova recepta določiti njegovo kategorijo:"
   ]
  },
  {
   "cell_type": "code",
   "execution_count": 31,
   "metadata": {
    "collapsed": true
   },
   "outputs": [],
   "source": [
    "def koren_besede(beseda):\n",
    "    beseda = ''.join(znak for znak in beseda if znak.isalpha())\n",
    "    if not beseda:\n",
    "        return '$'\n",
    "    konec = len(beseda) - 1\n",
    "    if beseda[konec] in 'ds':\n",
    "        konec -= 1\n",
    "    while konec >= 0 and beseda[konec] in 'aeiou':\n",
    "        konec -= 1\n",
    "    return beseda[:konec + 1]\n",
    "\n",
    "def koreni_besed(niz):\n",
    "    return pd.Series(list({\n",
    "        koren_besede(beseda) for beseda in niz.replace('-', ' ').lower().split() if beseda\n",
    "    }))\n",
    "\n",
    "def koreni_receptov(nizi):\n",
    "    return nizi[nizi.notnull()].apply(\n",
    "        koreni_besed\n",
    "    ).stack().reset_index(level=1, drop=True)\n",
    "\n",
    "def verjetnosti_po_kategorijah(dogodki_po_receptih):\n",
    "    dogodki_po_receptih.name = 'dogodek'\n",
    "    dogodki_po_kategorijah = kategorije.join(pd.DataFrame(dogodki_po_receptih), on='recept')\n",
    "    pogostost_dogodkov = pd.crosstab(dogodki_po_kategorijah.dogodek, dogodki_po_kategorijah.kategorija)\n",
    "    pogostost_dogodkov += (10**(-5))\n",
    "    return pogostost_dogodkov / pogostost_dogodkov.sum()"
   ]
  },
  {
   "cell_type": "code",
   "execution_count": 32,
   "metadata": {
    "collapsed": false
   },
   "outputs": [],
   "source": [
    "verjetnost_kategorije = kategorije.groupby('kategorija').size() / len(recepti)\n",
    "verjetnost_korena_naslova_pri_kategoriji = verjetnosti_po_kategorijah(koreni_receptov(recepti.naslov))"
   ]
  },
  {
   "cell_type": "code",
   "execution_count": 33,
   "metadata": {
    "collapsed": false
   },
   "outputs": [
    {
     "data": {
      "text/plain": [
       "kategorija\n",
       "prikuhe            0.000833\n",
       "otroška hrana      0.001667\n",
       "solate             0.005833\n",
       "gobje jedi         0.006667\n",
       "jajčne jedi        0.007500\n",
       "napitki            0.010000\n",
       "                     ...   \n",
       "zelenjavne jedi    0.034167\n",
       "priloge            0.039167\n",
       "ozimnica           0.040000\n",
       "kruh               0.051667\n",
       "mesne jedi         0.079167\n",
       "sladice            0.572500\n",
       "dtype: float64"
      ]
     },
     "execution_count": 33,
     "metadata": {},
     "output_type": "execute_result"
    }
   ],
   "source": [
    "verjetnost_kategorije.sort_values()"
   ]
  },
  {
   "cell_type": "code",
   "execution_count": 34,
   "metadata": {
    "collapsed": false
   },
   "outputs": [
    {
     "data": {
      "text/plain": [
       "dogodek\n",
       "tort        0.046632\n",
       "z           0.033679\n",
       "peciv       0.031606\n",
       "čokoladn    0.031606\n",
       "rezin       0.021243\n",
       "            0.018653\n",
       "pit         0.018653\n",
       "piškot      0.016580\n",
       "kokosov     0.016062\n",
       "in          0.012435\n",
       "Name: sladice, dtype: float64"
      ]
     },
     "execution_count": 34,
     "metadata": {},
     "output_type": "execute_result"
    }
   ],
   "source": [
    "verjetnost_korena_naslova_pri_kategoriji.sladice.sort_values(ascending=False).head(10)"
   ]
  },
  {
   "cell_type": "code",
   "execution_count": 35,
   "metadata": {
    "collapsed": false
   },
   "outputs": [
    {
     "data": {
      "text/plain": [
       "dogodek\n",
       "v           0.083084\n",
       "omak        0.074182\n",
       "zrezk       0.041542\n",
       "piščančj    0.035607\n",
       "mesn        0.032640\n",
       "govej       0.023738\n",
       "z           0.023738\n",
       "puranj      0.020771\n",
       "piščanec    0.017804\n",
       "            0.017804\n",
       "Name: mesne jedi, dtype: float64"
      ]
     },
     "execution_count": 35,
     "metadata": {},
     "output_type": "execute_result"
    }
   ],
   "source": [
    "verjetnost_korena_naslova_pri_kategoriji['mesne jedi'].sort_values(ascending=False).head(10)"
   ]
  },
  {
   "cell_type": "code",
   "execution_count": 37,
   "metadata": {
    "collapsed": true
   },
   "outputs": [],
   "source": [
    "def doloci_kategorijo_iz_naslova(naslov=''):\n",
    "    # Lahko bi se odločili, da ne bi upoštevali verjetnosti\n",
    "    # posameznih kategorij, ker so razmerja med njimi zelo velika\n",
    "    faktorji_kategorij = 1 * verjetnost_kategorije\n",
    "    faktorji_kategorij *= verjetnost_korena_naslova_pri_kategoriji[\n",
    "            verjetnost_korena_naslova_pri_kategoriji.index.isin(\n",
    "                koreni_besed(naslov)\n",
    "            )\n",
    "        ].prod()\n",
    "    faktorji_kategorij /= max(faktorji_kategorij)\n",
    "    return faktorji_kategorij.sort_values(ascending=False).head(5)"
   ]
  },
  {
   "cell_type": "code",
   "execution_count": 38,
   "metadata": {
    "collapsed": false
   },
   "outputs": [
    {
     "data": {
      "text/plain": [
       "kategorija\n",
       "sladice     1.000000e+00\n",
       "prikuhe     2.216768e-05\n",
       "eksotika    1.519827e-06\n",
       "predjedi    1.096359e-06\n",
       "priloge     5.944160e-07\n",
       "dtype: float64"
      ]
     },
     "execution_count": 38,
     "metadata": {},
     "output_type": "execute_result"
    }
   ],
   "source": [
    "doloci_kategorijo_iz_naslova(naslov='Sladka torta')"
   ]
  },
  {
   "cell_type": "code",
   "execution_count": 39,
   "metadata": {
    "collapsed": false
   },
   "outputs": [
    {
     "data": {
      "text/plain": [
       "kategorija\n",
       "enolončnice    1.000000\n",
       "mesne jedi     0.377582\n",
       "ostale jedi    0.109323\n",
       "omake          0.000001\n",
       "solate         0.000001\n",
       "dtype: float64"
      ]
     },
     "execution_count": 39,
     "metadata": {},
     "output_type": "execute_result"
    }
   ],
   "source": [
    "doloci_kategorijo_iz_naslova(naslov='Ljubljanski golaž')"
   ]
  },
  {
   "cell_type": "code",
   "execution_count": 40,
   "metadata": {
    "collapsed": false
   },
   "outputs": [
    {
     "data": {
      "text/plain": [
       "kategorija\n",
       "sirove jedi    1.000000\n",
       "gobje jedi     0.000015\n",
       "ostale jedi    0.000010\n",
       "kruh           0.000009\n",
       "enolončnice    0.000008\n",
       "dtype: float64"
      ]
     },
     "execution_count": 40,
     "metadata": {},
     "output_type": "execute_result"
    }
   ],
   "source": [
    "doloci_kategorijo_iz_naslova(naslov='Pohan sir na rukoli')"
   ]
  },
  {
   "cell_type": "code",
   "execution_count": 41,
   "metadata": {
    "collapsed": false
   },
   "outputs": [
    {
     "data": {
      "text/plain": [
       "kategorija\n",
       "kruh           1.000000e+00\n",
       "sladice        7.415479e-04\n",
       "mesne jedi     6.787641e-08\n",
       "jajčne jedi    6.738030e-10\n",
       "gobje jedi     4.492023e-10\n",
       "dtype: float64"
      ]
     },
     "execution_count": 41,
     "metadata": {},
     "output_type": "execute_result"
    }
   ],
   "source": [
    "doloci_kategorijo_iz_naslova(naslov='Zdrav kruh z manj soli')"
   ]
  },
  {
   "cell_type": "code",
   "execution_count": 42,
   "metadata": {
    "collapsed": false
   },
   "outputs": [
    {
     "data": {
      "text/plain": [
       "kategorija\n",
       "mesne jedi         1.000000e+00\n",
       "zelenjavne jedi    3.750047e-05\n",
       "morska hrana       1.527125e-05\n",
       "juhe in zakuhe     9.174813e-06\n",
       "otroška hrana      4.419480e-09\n",
       "dtype: float64"
      ]
     },
     "execution_count": 42,
     "metadata": {},
     "output_type": "execute_result"
    }
   ],
   "source": [
    "doloci_kategorijo_iz_naslova(naslov='Puranji zrezek s pire krompirjem')"
   ]
  },
  {
   "cell_type": "markdown",
   "metadata": {
    "collapsed": true
   },
   "source": [
    "Vidimo, da pri nekaterih primerih dela dobro, pri kakih tudi ne. Problem je v relativno majhni bazi podatkov (le 1200 naslovov receptov) in načinu jemenja korenov besed (deluje bolje v angleškem jeziku)."
   ]
  }
 ],
 "metadata": {
  "kernelspec": {
   "display_name": "Python 3",
   "language": "python",
   "name": "python3"
  },
  "language_info": {
   "codemirror_mode": {
    "name": "ipython",
    "version": 3
   },
   "file_extension": ".py",
   "mimetype": "text/x-python",
   "name": "python",
   "nbconvert_exporter": "python",
   "pygments_lexer": "ipython3",
   "version": "3.4.4"
  }
 },
 "nbformat": 4,
 "nbformat_minor": 1
}
